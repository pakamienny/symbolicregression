{
 "cells": [
  {
   "cell_type": "code",
   "execution_count": 1,
   "id": "a82c6a58-abd8-4129-8af6-01a88e4afcc6",
   "metadata": {},
   "outputs": [],
   "source": [
    "from symbolicregression.envs.new_environment import *\n"
   ]
  },
  {
   "cell_type": "code",
   "execution_count": 2,
   "id": "a724f185-27ad-4e3e-8609-3727ee695b4f",
   "metadata": {},
   "outputs": [],
   "source": [
    "from parsers import default_params"
   ]
  },
  {
   "cell_type": "code",
   "execution_count": 3,
   "id": "5ded69a1-4cd8-4d8f-a9ca-00a50d5b28e7",
   "metadata": {},
   "outputs": [
    {
     "data": {
      "text/plain": [
       "Namespace(ablation_to_keep=None, accumulate_gradients=1, amp=-1, attention_dropout=0, batch_load=False, batch_size=256, batch_size_eval=64, beam_early_stopping=True, beam_eval=True, beam_eval_train=0, beam_length_penalty=1, beam_selection_metrics=1, beam_size=1, beam_temperature=0.1, beam_type='sampling', clip_grad_norm=0.5, collate_queue_size=2000, cpu=False, debug=False, debug_slurm=False, debug_train_statistics=False, dec_emb_dim=512, dec_positional_embeddings='learnable', dropout=0, dump_path='', emb_emb_dim=64, emb_expansion_factor=1, embedder_type='LinearPoint', enc_emb_dim=512, enc_positional_embeddings=None, enforce_dim=True, env_base_seed=0, env_name='sr', eval_data='', eval_dump_path=None, eval_from_exp='', eval_in_domain=True, eval_input_length_modulo=-1, eval_noise=0, eval_noise_gamma=0.0, eval_noise_type='additive', eval_on_pmlb=True, eval_only=False, eval_size=10000, eval_verbose=0, eval_verbose_print=False, exp_id='', exp_name='debug', export_data=False, extra_binary_operators='', extra_constants=None, extra_unary_operators='', float_precision=3, fp16=False, local_rank=-1, lr=0.0001, mantissa_len=1, master_port=-1, max_binary_ops_offset=4, max_binary_ops_per_dim=1, max_centroids=10, max_epoch=100000, max_exponent=100, max_exponent_prefactor=1, max_generated_output_len=200, max_input_dimension=10, max_input_points=200, max_int=10, max_len=200, max_number_bags=1, max_output_dimension=1, max_token_len=0, max_trials=1, max_unary_depth=6, max_unary_ops=4, min_binary_ops_per_dim=0, min_input_dimension=1, min_len_per_dim=5, min_op_prob=0.01, min_output_dimension=1, min_unary_ops=0, n_dec_heads=16, n_dec_hidden_layers=1, n_dec_layers=16, n_emb_layers=1, n_enc_heads=16, n_enc_hidden_layers=1, n_enc_layers=2, n_prediction_points=200, n_steps_per_epoch=3000, n_trees_to_refine=10, norm_attention=False, num_workers=10, nvidia_apex=False, operators_to_downsample='div_0,arcsin_0,arccos_0,tan_0.2,arctan_0.2,sqrt_5,pow2_3,inv_3', operators_to_not_repeat='', optimizer='adam_inverse_sqrt,warmup_updates=10000', pad_to_max_dim=True, prediction_sigmas='1,2,4,8,16', print_freq=100, prob_const=0.0, prob_rand=0.0, queue_strategy='uniform_sampling', reduce_num_constants=True, refinements_types='method=BFGS_batchsize=256_metric=/_mse', reload_checkpoint='', reload_data='', reload_model='', reload_size=-1, required_operators='', rescale=True, save_periodic=25, save_results=True, share_inout_emb=True, simplify=False, stopping_criterion='', tasks='sr', test_env_seed=1, tokens_per_batch=10000, train_noise_gamma=0.0, use_abs=False, use_controller=True, use_skeleton=False, use_sympy=False, validation_metrics='r2_zero,r2,accuracy_l1_biggio,accuracy_l1_1e-3,accuracy_l1_1e-2,accuracy_l1_1e-1,_complexity', windows=False)"
      ]
     },
     "execution_count": 3,
     "metadata": {},
     "output_type": "execute_result"
    }
   ],
   "source": [
    "default_params"
   ]
  },
  {
   "cell_type": "code",
   "execution_count": 4,
   "id": "d557de69-e000-417c-a85a-89a74958f74b",
   "metadata": {},
   "outputs": [
    {
     "name": "stdout",
     "output_type": "stream",
     "text": [
      "\n"
     ]
    }
   ],
   "source": [
    "default_params.global_rank =1\n",
    "dataloader = create_train_iterator(data_path=\"\", params=default_params)"
   ]
  },
  {
   "cell_type": "code",
   "execution_count": 5,
   "id": "a97a83b0-576c-428a-a5c3-db1a1519ae58",
   "metadata": {},
   "outputs": [
    {
     "name": "stderr",
     "output_type": "stream",
     "text": [
      "IOPub data rate exceeded.\n",
      "The Jupyter server will temporarily stop sending output\n",
      "to the client in order to avoid crashing it.\n",
      "To change this limit, set the config variable\n",
      "`--ServerApp.iopub_data_rate_limit`.\n",
      "\n",
      "Current values:\n",
      "ServerApp.iopub_data_rate_limit=1000000.0 (bytes/sec)\n",
      "ServerApp.rate_limit_window=3.0 (secs)\n",
      "\n"
     ]
    },
    {
     "name": "stdout",
     "output_type": "stream",
     "text": [
      "\n"
     ]
    },
    {
     "name": "stderr",
     "output_type": "stream",
     "text": [
      "IOPub data rate exceeded.\n",
      "The Jupyter server will temporarily stop sending output\n",
      "to the client in order to avoid crashing it.\n",
      "To change this limit, set the config variable\n",
      "`--ServerApp.iopub_data_rate_limit`.\n",
      "\n",
      "Current values:\n",
      "ServerApp.iopub_data_rate_limit=1000000.0 (bytes/sec)\n",
      "ServerApp.rate_limit_window=3.0 (secs)\n",
      "\n"
     ]
    },
    {
     "name": "stdout",
     "output_type": "stream",
     "text": [
      "\n"
     ]
    },
    {
     "name": "stderr",
     "output_type": "stream",
     "text": [
      "IOPub data rate exceeded.\n",
      "The Jupyter server will temporarily stop sending output\n",
      "to the client in order to avoid crashing it.\n",
      "To change this limit, set the config variable\n",
      "`--ServerApp.iopub_data_rate_limit`.\n",
      "\n",
      "Current values:\n",
      "ServerApp.iopub_data_rate_limit=1000000.0 (bytes/sec)\n",
      "ServerApp.rate_limit_window=3.0 (secs)\n",
      "\n"
     ]
    },
    {
     "name": "stdout",
     "output_type": "stream",
     "text": [
      "\n"
     ]
    },
    {
     "name": "stderr",
     "output_type": "stream",
     "text": [
      "IOPub data rate exceeded.\n",
      "The Jupyter server will temporarily stop sending output\n",
      "to the client in order to avoid crashing it.\n",
      "To change this limit, set the config variable\n",
      "`--ServerApp.iopub_data_rate_limit`.\n",
      "\n",
      "Current values:\n",
      "ServerApp.iopub_data_rate_limit=1000000.0 (bytes/sec)\n",
      "ServerApp.rate_limit_window=3.0 (secs)\n",
      "\n"
     ]
    },
    {
     "name": "stdout",
     "output_type": "stream",
     "text": [
      "\n"
     ]
    }
   ],
   "source": [
    "it = iter(dataloader)"
   ]
  },
  {
   "cell_type": "code",
   "execution_count": 7,
   "id": "c10a4635-668c-49e6-b231-c4b0e5d5d7b5",
   "metadata": {},
   "outputs": [],
   "source": [
    "from symbolicregression_env.envs import ExpressionGeneratorArgs, ExpressionGenerator"
   ]
  },
  {
   "cell_type": "code",
   "execution_count": 8,
   "id": "042accdf-7bd7-4120-a778-3713659d6974",
   "metadata": {},
   "outputs": [
    {
     "name": "stdout",
     "output_type": "stream",
     "text": [
      "(x_1-((C_0+x_0)*((C_0-(((((x_4-C_0)*x_0)*x_1)-C_0)*x_2))+C_0)))\n"
     ]
    }
   ],
   "source": [
    "env_args = ExpressionGeneratorArgs()\n",
    "env = ExpressionGenerator.build(env_args, 0)\n",
    "expr = env.generate_expr(10, 10)\n",
    "print(expr)"
   ]
  },
  {
   "cell_type": "code",
   "execution_count": 12,
   "id": "899a5f12-fede-4533-81ad-865b285c1033",
   "metadata": {},
   "outputs": [],
   "source": [
    " x=np.array([0.2,2.2,2])"
   ]
  },
  {
   "cell_type": "code",
   "execution_count": 13,
   "id": "df567852-a084-4063-a439-60fc5140b5bc",
   "metadata": {},
   "outputs": [
    {
     "data": {
      "text/plain": [
       "array([[0.2],\n",
       "       [2.2],\n",
       "       [2. ]])"
      ]
     },
     "execution_count": 13,
     "metadata": {},
     "output_type": "execute_result"
    }
   ],
   "source": [
    "x[:, None]"
   ]
  },
  {
   "cell_type": "code",
   "execution_count": 1,
   "id": "809c589e-f876-4e80-bef5-cb478cbab964",
   "metadata": {},
   "outputs": [],
   "source": [
    "from symbolicregression_env.tokenizers import FloatTokenizer"
   ]
  },
  {
   "cell_type": "code",
   "execution_count": 2,
   "id": "f7aa8fed-ccc3-49a3-9801-a1ee77659f54",
   "metadata": {},
   "outputs": [],
   "source": [
    "f = FloatTokenizer()\n"
   ]
  },
  {
   "cell_type": "code",
   "execution_count": 3,
   "id": "8e17c17e-f48d-44b4-ba26-323474238249",
   "metadata": {},
   "outputs": [
    {
     "data": {
      "text/plain": [
       "['S+', 'N0000', 'E0']"
      ]
     },
     "execution_count": 3,
     "metadata": {},
     "output_type": "execute_result"
    }
   ],
   "source": [
    "f.encode(-1e-1000)"
   ]
  },
  {
   "cell_type": "code",
   "execution_count": null,
   "id": "0fdaac11-ee9b-4ca0-a7c6-b70d57f8065a",
   "metadata": {},
   "outputs": [],
   "source": []
  }
 ],
 "metadata": {
  "kernelspec": {
   "display_name": "Python 3",
   "language": "python",
   "name": "python3"
  },
  "language_info": {
   "codemirror_mode": {
    "name": "ipython",
    "version": 3
   },
   "file_extension": ".py",
   "mimetype": "text/x-python",
   "name": "python",
   "nbconvert_exporter": "python",
   "pygments_lexer": "ipython3",
   "version": "3.8.8"
  }
 },
 "nbformat": 4,
 "nbformat_minor": 5
}
