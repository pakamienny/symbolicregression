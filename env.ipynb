{
 "cells": [
  {
   "cell_type": "code",
   "execution_count": 1,
   "id": "19cd77b9-99ea-4546-9060-d173e5531599",
   "metadata": {},
   "outputs": [
    {
     "name": "stdout",
     "output_type": "stream",
     "text": [
      "/private/home/pakamienny/Research/symbolicregression\n"
     ]
    }
   ],
   "source": [
    "%cd /private/home/pakamienny/Research/symbolicregression\n",
    "%load_ext autoreload\n",
    "%autoreload 2\n"
   ]
  },
  {
   "cell_type": "code",
   "execution_count": 2,
   "id": "a82c6a58-abd8-4129-8af6-01a88e4afcc6",
   "metadata": {},
   "outputs": [],
   "source": [
    "import numpy as np\n",
    "\n",
    "\n",
    "from symbolicregression.envs.environment import *\n",
    "from symbolicregression.metrics import *\n",
    "from symbolicregression.model.embedders import conv_out_len\n",
    "from symbolicregression.envs import ExpressionGeneratorArgs, ExpressionGenerator\n",
    "from symbolicregression.envs import Node, NodeParseError\n",
    "from parsers import default_params as params\n"
   ]
  },
  {
   "cell_type": "code",
   "execution_count": 5,
   "id": "46d80c86-1026-4f3d-a4cd-60a42385224a",
   "metadata": {},
   "outputs": [
    {
     "data": {
      "text/plain": [
       "RandomState(MT19937) at 0x7F29F233B140"
      ]
     },
     "execution_count": 5,
     "metadata": {},
     "output_type": "execute_result"
    }
   ],
   "source": [
    "from symbolicregression.envs import build_env\n",
    "from symbolicregression.model import build_modules\n",
    "\n",
    "env = build_env(params)\n",
    "env.set_rng(np.random.RandomState(0))"
   ]
  },
  {
   "cell_type": "code",
   "execution_count": 95,
   "id": "d557de69-e000-417c-a85a-89a74958f74b",
   "metadata": {},
   "outputs": [],
   "source": [
    "from parsers import default_params as params\n",
    "params.global_rank =1\n",
    "dataloader = create_train_iterator(env, data_path=\"\", params=params)\n",
    "train_iterator = iter(dataloader)"
   ]
  },
  {
   "cell_type": "code",
   "execution_count": 89,
   "id": "68545643-ce0c-44f8-b23d-c3bc08da5cb1",
   "metadata": {},
   "outputs": [],
   "source": [
    "\n",
    "\n",
    "test_iterator = iter(create_test_iterator(env, \"\",\"\", params=params))\n"
   ]
  },
  {
   "cell_type": "code",
   "execution_count": 96,
   "id": "bbe52aac-ecde-4475-be83-45907e52ec32",
   "metadata": {
    "tags": []
   },
   "outputs": [],
   "source": [
    "samples = next(train_iterator)"
   ]
  },
  {
   "cell_type": "code",
   "execution_count": 102,
   "id": "6ed8f07b-fa71-47f6-9a5e-c53ca3aed27a",
   "metadata": {},
   "outputs": [],
   "source": [
    "import pickle\n",
    "run_dir = Path(\"/checkpoint/pakamienny/new_symbolicregression/Feb20/tokens_per_batch_10000_lr_0.0002_accumulate_gradients_5_embedder_type_conv_use_emb_positional_embeddings_True/2023-02-20_13-01-43/\")\n",
    "run_dir = Path(\"/checkpoint/pakamienny/new_symbolicregression/Feb20/tokens_per_batch_10000_lr_0.0002_accumulate_gradients_1_embedder_type_conv_use_emb_positional_embeddings_True/2023-02-21_00-41-46\")\n",
    "#from parsers import default_params as params\n",
    "\n",
    "params = pickle.load(open(run_dir / \"params.pkl\", \"rb\"))\n",
    "params.reload_model = str(run_dir / \"best-r2_train_median_synthetic.pth\")"
   ]
  },
  {
   "cell_type": "code",
   "execution_count": null,
   "id": "216ba4bc-3b6f-480a-af0d-56e9bb478402",
   "metadata": {},
   "outputs": [],
   "source": []
  },
  {
   "cell_type": "code",
   "execution_count": 104,
   "id": "5d4a85a8-8fc7-4d7a-9d02-b59b2c0c556b",
   "metadata": {},
   "outputs": [],
   "source": [
    "env = build_env(params)\n",
    "env.set_rng(np.random.RandomState(0))\n",
    "modules = build_modules(env, params)\n",
    "embedder, encoder, decoder = (modules[\"embedder_module\"], modules[\"encoder_module\"], modules[\"decoder_module\"])\n",
    "embedder.eval()\n",
    "encoder.eval()\n",
    "decoder.eval()\n",
    "\n",
    "output_word2id = modules[\"output_word2id\"]\n",
    "output_id2word = modules[\"output_id2word\"]\n",
    "output_tokenizer = modules[\"output_tokenizer\"]\n"
   ]
  },
  {
   "cell_type": "code",
   "execution_count": 105,
   "id": "27a1857d-4aab-4940-bdf5-d08065c5ad64",
   "metadata": {},
   "outputs": [],
   "source": [
    "\n",
    "\n",
    "def forward_greedy_model(x, y, optimize=False):\n",
    "    x1, x1_len = embedder([(x[:params.n_max_observations], y[:params.n_max_observations])])\n",
    "    encoded = encoder(\"fwd\", x=x1, lengths=x1_len, causal=False).transpose(0, 1)\n",
    "    generations, _ = decoder.generate(encoded, x1_len, sample_temperature=None, max_len=100)\n",
    "    generations = generations.transpose(0, 1)\n",
    "    ytildes = []\n",
    "    for dataset_id, generation in zip(np.arange(len(generations)), generations):\n",
    "        words = [output_id2word[tok.item()] for tok in generation]\n",
    "        while words[-1] == \"<PAD>\": words.pop(-1)\n",
    "        assert words[0]==\"<EOS>\" and words[-1]==\"<EOS>\"\n",
    "        try:\n",
    "            decoded_expression: Node = output_tokenizer.decode(words[1:-1])\n",
    "        except NodeParseError:\n",
    "            continue\n",
    "        display(decoded_expression.to_sympy())\n",
    "\n",
    "        if optimize:\n",
    "            decoded_expression = run_torch_optim(decoded_expression, x, y, True)\n",
    "        prefix = decoded_expression.prefix()\n",
    "        ytilde = decoded_expression.evaluate(x)\n",
    "        r2_train = stable_r2_score(y, ytilde)\n",
    "        display(decoded_expression.to_sympy())\n",
    "        ytildes.append(ytilde)\n",
    "        print(decoded_expression, r2_train)\n",
    "\n",
    "    plt.clf()\n",
    "    plt.scatter(x[:params.n_max_observations], y[:params.n_max_observations], c=\"g\")\n",
    "    plt.scatter(x[params.n_max_observations:], y[params.n_max_observations:], c=\"r\")\n",
    "\n",
    "    for ytilde in ytildes:\n",
    "        plt.scatter(x[:params.n_max_observations], ytilde[:params.n_max_observations], c=\"g\", marker=\"x\")\n",
    "        plt.scatter(x[params.n_max_observations:], ytilde[params.n_max_observations:], c=\"r\", marker=\"x\")\n",
    "\n",
    "    plt.show()"
   ]
  },
  {
   "cell_type": "code",
   "execution_count": 122,
   "id": "25e11b5e-ee65-450a-8586-63e223cc7062",
   "metadata": {},
   "outputs": [
    {
     "data": {
      "text/latex": [
       "$\\displaystyle x_{0} \\sin{\\left(x_{0} \\right)} - 1.05065383658749$"
      ],
      "text/plain": [
       "x_0*sin(x_0) - 1.05065383658749"
      ]
     },
     "metadata": {},
     "output_type": "display_data"
    }
   ],
   "source": [
    "expr, (x,y) = env.get_sample(params.n_max_observations+100, 3, 1) \n",
    "display(expr.to_sympy())\n",
    "\n"
   ]
  },
  {
   "cell_type": "code",
   "execution_count": 123,
   "id": "ed8c8ae1-d960-42da-97a1-f59ab4355a21",
   "metadata": {},
   "outputs": [
    {
     "data": {
      "text/latex": [
       "$\\displaystyle - \\frac{0.24}{x_{0}}$"
      ],
      "text/plain": [
       "-0.24/x_0"
      ]
     },
     "metadata": {},
     "output_type": "display_data"
    },
    {
     "data": {
      "text/latex": [
       "$\\displaystyle - \\frac{0.24}{x_{0}}$"
      ],
      "text/plain": [
       "-0.24/x_0"
      ]
     },
     "metadata": {},
     "output_type": "display_data"
    },
    {
     "name": "stdout",
     "output_type": "stream",
     "text": [
      "(-1.2000000000000002/(x_0+(x_0+(x_0+(x_0+x_0))))) -42.918835422366215\n"
     ]
    },
    {
     "data": {
      "image/png": "[encoded data removed]",
      "text/plain": [
       "<Figure size 432x288 with 1 Axes>"
      ]
     },
     "metadata": {
      "needs_background": "light"
     },
     "output_type": "display_data"
    }
   ],
   "source": [
    "import matplotlib.pyplot as plt\n",
    "\n",
    "forward_greedy_model(x, y, False)\n",
    "\n"
   ]
  },
  {
   "cell_type": "code",
   "execution_count": null,
   "id": "0f6d128b-6360-45c3-bbee-dc4cacead14a",
   "metadata": {},
   "outputs": [],
   "source": [
    "forward_greedy_model(x, y, True)"
   ]
  },
  {
   "cell_type": "code",
   "execution_count": 93,
   "id": "f18574f6-1d0d-4339-a3a7-2f4b3f1f07d4",
   "metadata": {},
   "outputs": [],
   "source": [
    "expressions = samples[\"expression\"]\n",
    "x = samples[\"x\"]\n",
    "y = samples[\"y\"]\n",
    "is_train = samples[\"is_train\"]\n",
    "\n",
    "bs = len(x)\n",
    "xys = [(xi[mask], yi[mask]) for xi, yi, mask in zip(x, y, is_train)] \n",
    "x1, x1_len = embedder(xys)\n",
    "x2, len2 = batch_expressions(output_tokenizer, output_word2id, expressions)\n"
   ]
  },
  {
   "cell_type": "code",
   "execution_count": 79,
   "id": "fda7ddf4-8976-438c-90ac-4a398187aae3",
   "metadata": {},
   "outputs": [
    {
     "data": {
      "text/plain": [
       "(torch.Size([128, 74, 512]),\n",
       " tensor([123, 123, 123, 123, 123, 123, 123, 123, 125, 125, 125, 125, 125, 125,\n",
       "         125, 125, 125, 125, 125, 125, 125, 125, 125, 125, 125, 125, 125, 125,\n",
       "         125, 125, 125, 125, 125, 125, 125, 125, 125, 125, 125, 125, 125, 125,\n",
       "         125, 125, 125, 125, 126, 126, 126, 126, 126, 126, 126, 126, 126, 126,\n",
       "         126, 126, 126, 126, 126, 126, 126, 126, 126, 126, 126, 128, 128, 128,\n",
       "         128, 128, 128, 128], device='cuda:0'))"
      ]
     },
     "execution_count": 79,
     "metadata": {},
     "output_type": "execute_result"
    }
   ],
   "source": [
    "x1.shape, x1_len"
   ]
  },
  {
   "cell_type": "code",
   "execution_count": 74,
   "id": "2f5d8db8-51cb-473c-9f35-c0beef88433f",
   "metadata": {},
   "outputs": [
    {
     "data": {
      "text/plain": [
       "(torch.Size([62, 74]),\n",
       " tensor([42, 53, 31, 41, 14, 31, 23, 21, 62, 43, 18, 23, 38, 40,  5, 25, 50, 37,\n",
       "         51, 42, 21, 60, 17, 54, 23, 39, 37, 14, 22, 26, 54, 19, 21, 18, 57, 45,\n",
       "         41, 19, 37, 19, 29, 51, 44, 23, 14, 18, 48, 54, 45, 33, 36, 42, 26, 46,\n",
       "         25, 40, 28, 34, 18, 45, 19, 10, 20, 35, 13, 33, 20, 32, 34, 21, 44, 30,\n",
       "         46, 24]))"
      ]
     },
     "execution_count": 74,
     "metadata": {},
     "output_type": "execute_result"
    }
   ],
   "source": [
    "for xi in "
   ]
  },
  {
   "cell_type": "code",
   "execution_count": 70,
   "id": "ef67b825-089e-40b1-89d3-1bc3062454ae",
   "metadata": {},
   "outputs": [
    {
     "data": {
      "text/plain": [
       "torch.Size([128, 74, 512])"
      ]
     },
     "execution_count": 70,
     "metadata": {},
     "output_type": "execute_result"
    }
   ],
   "source": [
    "x1.shape"
   ]
  },
  {
   "cell_type": "code",
   "execution_count": null,
   "id": "0badedbb-7c4d-48cb-8915-43ca9be4a7e9",
   "metadata": {},
   "outputs": [],
   "source": [
    "%%time\n",
    "\n",
    "encoded = encoder(\"fwd\", x=x1, lengths=x1_len, causal=False).transpose(0, 1)\n"
   ]
  },
  {
   "cell_type": "code",
   "execution_count": null,
   "id": "b73f25a3-9b46-40d8-9eaf-5a2f30b24ce9",
   "metadata": {},
   "outputs": [],
   "source": [
    "%%time\n",
    "\n",
    "generations, _ = decoder.generate(encoded, x1_len, sample_temperature=None, max_len=50)\n"
   ]
  },
  {
   "cell_type": "code",
   "execution_count": null,
   "id": "40bc1cc9-2a4a-47ab-a1e7-e2bcee590b84",
   "metadata": {},
   "outputs": [],
   "source": [
    "generations"
   ]
  },
  {
   "cell_type": "code",
   "execution_count": null,
   "id": "2b6496da-7e55-4290-83e2-72f26c3d5065",
   "metadata": {},
   "outputs": [],
   "source": [
    "df = pd.read_csv(run_dir / \"eval_in-domain/epoch_25.csv\", delimiter=\";\")#.drop([\"Unnamed: 0\"])\n",
    "df[\"expression\"] = df[\"expression\"].apply(lambda x: Node.from_prefix(x))\n",
    "df[[\"r2_train\", \"expression\", \"ground_truth\"]].head(10)"
   ]
  },
  {
   "cell_type": "code",
   "execution_count": null,
   "id": "e1a1f40a-d469-44a4-8af8-d5a11d8d7f5b",
   "metadata": {},
   "outputs": [],
   "source": []
  },
  {
   "cell_type": "code",
   "execution_count": null,
   "id": "e1c9aa04-458a-44f5-9fd1-821b4a4f4f89",
   "metadata": {},
   "outputs": [],
   "source": [
    "for expression in df[\"expression\"]:\n",
    "    print(Node.from_prefix(expression))"
   ]
  },
  {
   "cell_type": "code",
   "execution_count": null,
   "id": "2b55e0b5-e6c0-4550-a418-44061e486539",
   "metadata": {},
   "outputs": [],
   "source": []
  }
 ],
 "metadata": {
  "kernelspec": {
   "display_name": "Python 3",
   "language": "python",
   "name": "python3"
  },
  "language_info": {
   "codemirror_mode": {
    "name": "ipython",
    "version": 3
   },
   "file_extension": ".py",
   "mimetype": "text/x-python",
   "name": "python",
   "nbconvert_exporter": "python",
   "pygments_lexer": "ipython3",
   "version": "3.8.8"
  }
 },
 "nbformat": 4,
 "nbformat_minor": 5
}
