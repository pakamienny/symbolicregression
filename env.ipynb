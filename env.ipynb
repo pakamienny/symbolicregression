{
 "cells": [
  {
   "cell_type": "code",
   "execution_count": 1,
   "id": "19cd77b9-99ea-4546-9060-d173e5531599",
   "metadata": {},
   "outputs": [
    {
     "name": "stdout",
     "output_type": "stream",
     "text": [
      "/private/home/pakamienny/Research/symbolicregression\n"
     ]
    }
   ],
   "source": [
    "%cd /private/home/pakamienny/Research/symbolicregression\n",
    "%load_ext autoreload\n",
    "%autoreload 2\n"
   ]
  },
  {
   "cell_type": "code",
   "execution_count": 2,
   "id": "a82c6a58-abd8-4129-8af6-01a88e4afcc6",
   "metadata": {},
   "outputs": [],
   "source": [
    "import numpy as np\n",
    "\n",
    "\n",
    "from symbolicregression.envs.environment import *\n",
    "from symbolicregression.metrics import *\n",
    "from symbolicregression.model.embedders import conv_out_len\n",
    "from symbolicregression.envs import ExpressionGeneratorArgs, ExpressionGenerator\n",
    "from symbolicregression.envs import Node, NodeParseError\n"
   ]
  },
  {
   "cell_type": "code",
   "execution_count": 3,
   "id": "46d80c86-1026-4f3d-a4cd-60a42385224a",
   "metadata": {},
   "outputs": [
    {
     "data": {
      "text/plain": [
       "RandomState(MT19937) at 0x7F08F5896E40"
      ]
     },
     "execution_count": 3,
     "metadata": {},
     "output_type": "execute_result"
    }
   ],
   "source": [
    "from parsers import default_params as params\n",
    "from symbolicregression.envs import build_env\n",
    "\n",
    "env = build_env(params)\n",
    "env.set_rng(np.random.RandomState(0))"
   ]
  },
  {
   "cell_type": "code",
   "execution_count": 8,
   "id": "0948ee7e-02d9-454c-a321-c6e15d6b2efe",
   "metadata": {},
   "outputs": [
    {
     "data": {
      "text/latex": [
       "$\\displaystyle x_{0} \\cdot \\left(0.32530241519407 x_{4} - 0.915078427605696\\right) \\left(x_{0} + 1.48727035475266 x_{3} x_{4} - 0.292966715075799\\right)$"
      ],
      "text/plain": [
       "x_0*(0.32530241519407*x_4 - 0.915078427605696)*(x_0 + 1.48727035475266*x_3*x_4 - 0.292966715075799)"
      ]
     },
     "metadata": {},
     "output_type": "display_data"
    },
    {
     "data": {
      "text/latex": [
       "$\\displaystyle 2.0 x_{0} - x_{1} + 6.11528112658438$"
      ],
      "text/plain": [
       "2.0*x_0 - x_1 + 6.11528112658438"
      ]
     },
     "metadata": {},
     "output_type": "display_data"
    },
    {
     "data": {
      "text/latex": [
       "$\\displaystyle - x_{0}^{2} e^{2.3409742002214312 x_{2}} \\cos{\\left(x_{2} \\right)} - x_{0} \\left(x_{4} - \\left(x_{4} + 0.152963893022004\\right)^{2}\\right) - x_{4} - 0.693998699721745$"
      ],
      "text/plain": [
       "-x_0**2*exp(2.3409742002214312*x_2)*cos(x_2) - x_0*(x_4 - (x_4 + 0.152963893022004)**2) - x_4 - 0.693998699721745"
      ]
     },
     "metadata": {},
     "output_type": "display_data"
    },
    {
     "data": {
      "text/latex": [
       "$\\displaystyle \\left(- \\frac{x_{4} \\cdot \\left(0.0294432350765956 \\left(x_{0} + 0.207713594378862\\right)^{2} + 0.00786356950596983\\right)}{- x_{2} + \\frac{0.547683417949913}{x_{2}}} - 0.0978883529379355\\right)^{2}$"
      ],
      "text/plain": [
       "(-x_4*(0.0294432350765956*(x_0 + 0.207713594378862)**2 + 0.00786356950596983)/(-x_2 + 0.547683417949913/x_2) - 0.0978883529379355)**2"
      ]
     },
     "metadata": {},
     "output_type": "display_data"
    },
    {
     "data": {
      "text/latex": [
       "$\\displaystyle - x_{1} \\cdot \\left(1.97906925231057 x_{0} - 1.97906925231057 x_{1} - 1.18586825335941\\right) + \\cos{\\left(x_{4} \\right)}$"
      ],
      "text/plain": [
       "-x_1*(1.97906925231057*x_0 - 1.97906925231057*x_1 - 1.18586825335941) + cos(x_4)"
      ]
     },
     "metadata": {},
     "output_type": "display_data"
    },
    {
     "data": {
      "text/latex": [
       "$\\displaystyle - \\left|{\\cos{\\left(0.3292053952573983 x_{2} + 0.3292053952573983 \\sin{\\left(\\left(\\cos{\\left(x_{3} \\right)} - 0.7546519162351936\\right)^{4} \\right)} - 0.2198271686473233 \\right)}}\\right| - 0.327543741340636$"
      ],
      "text/plain": [
       "-Abs(cos(0.3292053952573983*x_2 + 0.3292053952573983*sin((cos(x_3) - 0.7546519162351936)**4) - 0.2198271686473233)) - 0.327543741340636"
      ]
     },
     "metadata": {},
     "output_type": "display_data"
    },
    {
     "data": {
      "text/latex": [
       "$\\displaystyle \\frac{1}{- \\frac{x_{0}}{- 1.44795089959083 x_{1} \\cdot \\left(0.511144461007876 - x_{0}\\right) + x_{3} + 0.041960474314968} - x_{4} + \\sin{\\left(x_{4} \\right)} + 0.0813638900195187}$"
      ],
      "text/plain": [
       "1/(-x_0/(-1.44795089959083*x_1*(0.511144461007876 - x_0) + x_3 + 0.041960474314968) - x_4 + sin(x_4) + 0.0813638900195187)"
      ]
     },
     "metadata": {},
     "output_type": "display_data"
    },
    {
     "data": {
      "text/latex": [
       "$\\displaystyle \\sin^{2}{\\left(0.25477340329176307 \\left|{x_{0}}\\right| \\left|{x_{2}}\\right| - \\frac{1.8139183199120317}{\\left|{x_{3} + e^{x_{2}} + \\sqrt{\\sin{\\left(x_{4} \\right)}}}\\right|} \\right)}$"
      ],
      "text/plain": [
       "sin(0.25477340329176307*Abs(x_0)*Abs(x_2) - 1.8139183199120317/Abs(x_3 + exp(x_2) + sqrt(sin(x_4))))**2"
      ]
     },
     "metadata": {},
     "output_type": "display_data"
    },
    {
     "data": {
      "text/latex": [
       "$\\displaystyle x_{0} + 0.352339856898291 x_{1} + \\left(0.0449727270768282 - x_{1}\\right) \\left(x_{0} + \\left(x_{1} - 0.598124521632243\\right)^{2} + 0.397165440526039\\right)^{2} + 1.12599924007472$"
      ],
      "text/plain": [
       "x_0 + 0.352339856898291*x_1 + (0.0449727270768282 - x_1)*(x_0 + (x_1 - 0.598124521632243)**2 + 0.397165440526039)**2 + 1.12599924007472"
      ]
     },
     "metadata": {},
     "output_type": "display_data"
    },
    {
     "data": {
      "text/latex": [
       "$\\displaystyle \\frac{1.13845435376764 x_{0}}{- 0.995864675965265 \\sin{\\left(x_{1} \\right)} - 1.44972457091326} - x_{3} + 1.4443177275453$"
      ],
      "text/plain": [
       "1.13845435376764*x_0/(-0.995864675965265*sin(x_1) - 1.44972457091326) - x_3 + 1.4443177275453"
      ]
     },
     "metadata": {},
     "output_type": "display_data"
    }
   ],
   "source": [
    "for _ in range(10):\n",
    "    expr, (x,y) = env.get_sample(n_observations=1, n_ops=15, max_n_vars=5)\n",
    "    display(expr.to_sympy())"
   ]
  },
  {
   "cell_type": "code",
   "execution_count": 5,
   "id": "d557de69-e000-417c-a85a-89a74958f74b",
   "metadata": {},
   "outputs": [],
   "source": [
    "from parsers import default_params as params\n",
    "params.min_vars=5\n",
    "params.global_rank =1\n",
    "dataloader = create_train_iterator(env, data_path=\"\", params=params)"
   ]
  },
  {
   "cell_type": "code",
   "execution_count": 6,
   "id": "68545643-ce0c-44f8-b23d-c3bc08da5cb1",
   "metadata": {},
   "outputs": [
    {
     "ename": "NameError",
     "evalue": "name 'default_params' is not defined",
     "output_type": "error",
     "traceback": [
      "\u001b[0;31m---------------------------------------------------------------------------\u001b[0m",
      "\u001b[0;31mNameError\u001b[0m                                 Traceback (most recent call last)",
      "\u001b[0;32m<ipython-input-6-cd1e28439484>\u001b[0m in \u001b[0;36m<module>\u001b[0;34m\u001b[0m\n\u001b[0;32m----> 1\u001b[0;31m \u001b[0mparams\u001b[0m\u001b[0;34m=\u001b[0m\u001b[0mdefault_params\u001b[0m\u001b[0;34m\u001b[0m\u001b[0;34m\u001b[0m\u001b[0m\n\u001b[0m\u001b[1;32m      2\u001b[0m \u001b[0mparams\u001b[0m\u001b[0;34m.\u001b[0m\u001b[0mbatch_size_eval\u001b[0m \u001b[0;34m=\u001b[0m \u001b[0;36m1\u001b[0m\u001b[0;34m\u001b[0m\u001b[0;34m\u001b[0m\u001b[0m\n\u001b[1;32m      3\u001b[0m \u001b[0mparams\u001b[0m\u001b[0;34m.\u001b[0m\u001b[0meval_size\u001b[0m \u001b[0;34m=\u001b[0m \u001b[0;36m200\u001b[0m\u001b[0;34m\u001b[0m\u001b[0;34m\u001b[0m\u001b[0m\n\u001b[1;32m      4\u001b[0m \u001b[0miterator\u001b[0m \u001b[0;34m=\u001b[0m \u001b[0mcreate_test_iterator\u001b[0m\u001b[0;34m(\u001b[0m\u001b[0menv\u001b[0m\u001b[0;34m,\u001b[0m \u001b[0;34m\"\"\u001b[0m\u001b[0;34m,\u001b[0m \u001b[0mparams\u001b[0m\u001b[0;34m.\u001b[0m\u001b[0msrbench_path\u001b[0m\u001b[0;34m,\u001b[0m \u001b[0mparams\u001b[0m\u001b[0;34m=\u001b[0m\u001b[0mparams\u001b[0m\u001b[0;34m)\u001b[0m\u001b[0;34m\u001b[0m\u001b[0;34m\u001b[0m\u001b[0m\n",
      "\u001b[0;31mNameError\u001b[0m: name 'default_params' is not defined"
     ]
    }
   ],
   "source": [
    "params=default_params\n",
    "params.batch_size_eval = 1\n",
    "params.eval_size = 200\n",
    "iterator = create_test_iterator(env, \"\", params.srbench_path, params=params)\n"
   ]
  },
  {
   "cell_type": "code",
   "execution_count": null,
   "id": "6ed8f07b-fa71-47f6-9a5e-c53ca3aed27a",
   "metadata": {},
   "outputs": [],
   "source": [
    "import pickle\n",
    "run_dir = Path(\"/checkpoint/pakamienny/new_symbolicregression/Feb17/tokens_per_batch_10000_lr_0.0002_accumulate_gradients_5_embedder_type_conv_use_emb_positional_embeddings_False/2023-02-17_08-15-20/\")\n",
    " \n",
    "#from parsers import default_params as params\n",
    "\n",
    "params = pickle.load(open(run_dir / \"params.pkl\", \"rb\"))\n",
    "params.reload_model = str(run_dir / \"best-r2_train_median_synthetic.pth\")"
   ]
  },
  {
   "cell_type": "code",
   "execution_count": null,
   "id": "216ba4bc-3b6f-480a-af0d-56e9bb478402",
   "metadata": {},
   "outputs": [],
   "source": []
  },
  {
   "cell_type": "code",
   "execution_count": null,
   "id": "5d4a85a8-8fc7-4d7a-9d02-b59b2c0c556b",
   "metadata": {},
   "outputs": [],
   "source": [
    "from symbolicregression.model import build_modules\n",
    "\n",
    "modules = build_modules(env, params)\n",
    "embedder, encoder, decoder = (modules[\"embedder_module\"], modules[\"encoder_module\"], modules[\"decoder_module\"])\n",
    "\n",
    "output_word2id = modules[\"output_word2id\"]\n",
    "output_id2word = modules[\"output_id2word\"]\n",
    "output_tokenizer = modules[\"output_tokenizer\"]\n"
   ]
  },
  {
   "cell_type": "code",
   "execution_count": null,
   "id": "9eb02d11-da5a-4dde-a613-a1e388aa6417",
   "metadata": {},
   "outputs": [],
   "source": [
    "env.get_sample(100, 15, 5)"
   ]
  },
  {
   "cell_type": "code",
   "execution_count": null,
   "id": "220ea7a4-4c13-4b8c-8d97-3ed24457eb8a",
   "metadata": {},
   "outputs": [],
   "source": [
    "x.shape"
   ]
  },
  {
   "cell_type": "code",
   "execution_count": null,
   "id": "890e0385-048f-4c63-8613-3017c3952b8e",
   "metadata": {},
   "outputs": [],
   "source": [
    "from symbolicregression.model.embedders import *\n",
    "params.emb_hidden_size=256\n",
    "params.emb_n_layers=2\n",
    "pe = ConvEmbedder(modules[\"input_tokenizer\"],  modules[\"input_word2id\"], params)\n",
    "_ = pe([(x,y)])"
   ]
  },
  {
   "cell_type": "code",
   "execution_count": null,
   "id": "4bcf98d7-4f7a-47d3-94af-bd025ab05ef4",
   "metadata": {},
   "outputs": [],
   "source": [
    "modules[\"input_tokenizer\"].encode(np.nan)"
   ]
  },
  {
   "cell_type": "code",
   "execution_count": null,
   "id": "27a1857d-4aab-4940-bdf5-d08065c5ad64",
   "metadata": {},
   "outputs": [],
   "source": [
    "embedder.eval()\n",
    "encoder.eval()\n",
    "decoder.eval()\n",
    "\n",
    "\n",
    "def forward_greedy_model(x, y, optimize=False):\n",
    "    x1, x1_len = embedder([(x[:params.n_max_observations], y[:params.n_max_observations])])\n",
    "    encoded = encoder(\"fwd\", x=x1, lengths=x1_len, causal=False).transpose(0, 1)\n",
    "    generations, _ = decoder.generate(encoded, x1_len, sample_temperature=None, max_len=100)\n",
    "    generations = generations.transpose(0, 1)\n",
    "\n",
    "    ytildes = []\n",
    "    for dataset_id, generation in zip(np.arange(len(datasets)), generations):\n",
    "        words = [output_id2word[tok.item()] for tok in generation]\n",
    "        while words[-1] == \"<PAD>\": words.pop(-1)\n",
    "        assert words[0]==\"<EOS>\" and words[-1]==\"<EOS>\"\n",
    "        try:\n",
    "            decoded_expression: Node = output_tokenizer.decode(words[1:-1])\n",
    "        except NodeParseError:\n",
    "            continue\n",
    "        if optimize:\n",
    "            decoded_expression = run_torch_optim(decoded_expression, x, y, True)\n",
    "        prefix = decoded_expression.prefix()\n",
    "        ytilde = decoded_expression.evaluate(x)\n",
    "        r2_train = stable_r2_score(y, ytilde)\n",
    "        display(decoded_expression.to_sympy())\n",
    "        ytildes.append(ytilde)\n",
    "        print(decoded_expression, r2_train)\n",
    "    plt.clf()\n",
    "    plt.scatter(x[:params.n_max_observations], y[:params.n_max_observations], c=\"g\")\n",
    "    plt.scatter(x[params.n_max_observations:], y[params.n_max_observations:], c=\"r\")\n",
    "\n",
    "    for ytilde in ytildes:\n",
    "        plt.scatter(x[:params.n_max_observations], ytilde[:params.n_max_observations], c=\"g\", marker=\"x\")\n",
    "        plt.scatter(x[params.n_max_observations:], ytilde[params.n_max_observations:], c=\"r\", marker=\"x\")\n",
    "\n",
    "    plt.show()"
   ]
  },
  {
   "cell_type": "code",
   "execution_count": null,
   "id": "25e11b5e-ee65-450a-8586-63e223cc7062",
   "metadata": {},
   "outputs": [],
   "source": [
    "expr, (x,y) = env.get_sample(params.n_max_observations+100, 10, 1) \n",
    "display(expr.to_sympy())\n",
    "\n"
   ]
  },
  {
   "cell_type": "code",
   "execution_count": null,
   "id": "ed8c8ae1-d960-42da-97a1-f59ab4355a21",
   "metadata": {},
   "outputs": [],
   "source": [
    "import matplotlib.pyplot as plt\n",
    "\n",
    "forward_greedy_model(x, y, False)\n",
    "\n"
   ]
  },
  {
   "cell_type": "code",
   "execution_count": null,
   "id": "0f6d128b-6360-45c3-bbee-dc4cacead14a",
   "metadata": {},
   "outputs": [],
   "source": [
    "forward_greedy_model(x, y, True)"
   ]
  },
  {
   "cell_type": "code",
   "execution_count": null,
   "id": "f18574f6-1d0d-4339-a3a7-2f4b3f1f07d4",
   "metadata": {},
   "outputs": [],
   "source": [
    "x1, x1_len = embedder(datasets)\n"
   ]
  },
  {
   "cell_type": "code",
   "execution_count": null,
   "id": "2f5d8db8-51cb-473c-9f35-c0beef88433f",
   "metadata": {},
   "outputs": [],
   "source": [
    "(x1==output_word2id[\"N11\"]).sum()"
   ]
  },
  {
   "cell_type": "code",
   "execution_count": null,
   "id": "0badedbb-7c4d-48cb-8915-43ca9be4a7e9",
   "metadata": {},
   "outputs": [],
   "source": [
    "%%time\n",
    "\n",
    "encoded = encoder(\"fwd\", x=x1, lengths=x1_len, causal=False).transpose(0, 1)\n"
   ]
  },
  {
   "cell_type": "code",
   "execution_count": null,
   "id": "b73f25a3-9b46-40d8-9eaf-5a2f30b24ce9",
   "metadata": {},
   "outputs": [],
   "source": [
    "%%time\n",
    "\n",
    "generations, _ = decoder.generate(encoded, x1_len, sample_temperature=None, max_len=50)\n"
   ]
  },
  {
   "cell_type": "code",
   "execution_count": null,
   "id": "40bc1cc9-2a4a-47ab-a1e7-e2bcee590b84",
   "metadata": {},
   "outputs": [],
   "source": [
    "generations"
   ]
  },
  {
   "cell_type": "code",
   "execution_count": null,
   "id": "2b6496da-7e55-4290-83e2-72f26c3d5065",
   "metadata": {},
   "outputs": [],
   "source": [
    "df = pd.read_csv(run_dir / \"eval_in-domain/epoch_25.csv\", delimiter=\";\")#.drop([\"Unnamed: 0\"])\n",
    "df[\"expression\"] = df[\"expression\"].apply(lambda x: Node.from_prefix(x))\n",
    "df[[\"r2_train\", \"expression\", \"ground_truth\"]].head(10)"
   ]
  },
  {
   "cell_type": "code",
   "execution_count": null,
   "id": "e1a1f40a-d469-44a4-8af8-d5a11d8d7f5b",
   "metadata": {},
   "outputs": [],
   "source": []
  },
  {
   "cell_type": "code",
   "execution_count": null,
   "id": "e1c9aa04-458a-44f5-9fd1-821b4a4f4f89",
   "metadata": {},
   "outputs": [],
   "source": [
    "for expression in df[\"expression\"]:\n",
    "    print(Node.from_prefix(expression))"
   ]
  },
  {
   "cell_type": "code",
   "execution_count": null,
   "id": "2b55e0b5-e6c0-4550-a418-44061e486539",
   "metadata": {},
   "outputs": [],
   "source": []
  }
 ],
 "metadata": {
  "kernelspec": {
   "display_name": "Python 3",
   "language": "python",
   "name": "python3"
  },
  "language_info": {
   "codemirror_mode": {
    "name": "ipython",
    "version": 3
   },
   "file_extension": ".py",
   "mimetype": "text/x-python",
   "name": "python",
   "nbconvert_exporter": "python",
   "pygments_lexer": "ipython3",
   "version": "3.8.8"
  }
 },
 "nbformat": 4,
 "nbformat_minor": 5
}
