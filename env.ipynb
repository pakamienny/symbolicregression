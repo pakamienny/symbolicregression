{
 "cells": [
  {
   "cell_type": "code",
   "execution_count": 14,
   "id": "a82c6a58-abd8-4129-8af6-01a88e4afcc6",
   "metadata": {},
   "outputs": [],
   "source": [
    "from symbolicregression.envs.new_environment import *\n"
   ]
  },
  {
   "cell_type": "code",
   "execution_count": 15,
   "id": "c10a4635-668c-49e6-b231-c4b0e5d5d7b5",
   "metadata": {
    "tags": []
   },
   "outputs": [
    {
     "name": "stdout",
     "output_type": "stream",
     "text": [
      "(x_1-((C_0+x_0)*((C_0-(((((x_4-C_0)*x_0)*x_1)-C_0)*x_2))+C_0)))\n"
     ]
    }
   ],
   "source": [
    "from symbolicregression_env.envs import ExpressionGeneratorArgs, ExpressionGenerator\n",
    "env_args = ExpressionGeneratorArgs()\n",
    "env = ExpressionGenerator.build(env_args, 0)\n",
    "expr = env.generate_expr(10, 10)\n",
    "print(expr)"
   ]
  },
  {
   "cell_type": "code",
   "execution_count": 16,
   "id": "a724f185-27ad-4e3e-8609-3727ee695b4f",
   "metadata": {},
   "outputs": [],
   "source": [
    "from parsers import default_params"
   ]
  },
  {
   "cell_type": "code",
   "execution_count": 6,
   "id": "5ded69a1-4cd8-4d8f-a9ca-00a50d5b28e7",
   "metadata": {},
   "outputs": [
    {
     "data": {
      "text/plain": [
       "Namespace(ablation_to_keep=None, accumulate_gradients=1, amp=-1, attention_dropout=0, batch_load=False, batch_size=256, batch_size_eval=64, beam_early_stopping=True, beam_eval=True, beam_eval_train=0, beam_length_penalty=1, beam_selection_metrics=1, beam_size=1, beam_temperature=0.1, beam_type='sampling', clip_grad_norm=0.5, collate_queue_size=2000, cpu=False, debug=False, debug_slurm=False, debug_train_statistics=False, dec_emb_dim=512, dec_positional_embeddings='learnable', dropout=0, dump_path='', emb_emb_dim=64, emb_expansion_factor=1, embedder_type='LinearPoint', enc_emb_dim=512, enc_positional_embeddings=None, env_base_seed=0, env_name='sr', eval_data='', eval_dump_path=None, eval_from_exp='', eval_in_domain=True, eval_input_length_modulo=-1, eval_noise=0, eval_noise_gamma=0.0, eval_noise_type='additive', eval_on_pmlb=True, eval_only=False, eval_size=10000, eval_verbose=0, eval_verbose_print=False, exp_id='', exp_name='debug', export_data=False, fp16=False, local_rank=-1, lr=0.0001, master_port=-1, max_epoch=100000, max_generated_output_len=200, max_input_points=200, max_number_bags=1, max_ops=25, max_token_len=0, max_vars=5, n_dec_heads=16, n_dec_hidden_layers=1, n_dec_layers=16, n_emb_layers=1, n_enc_heads=16, n_enc_hidden_layers=1, n_enc_layers=2, n_observations=200, n_steps_per_epoch=3000, n_trees_to_refine=10, norm_attention=False, num_workers=10, nvidia_apex=False, optimizer='adam_inverse_sqrt,warmup_updates=10000', print_freq=100, queue_strategy='uniform_sampling', refinements_types='method=BFGS_batchsize=256_metric=/_mse', reload_checkpoint='', reload_data='', reload_model='', reload_size=-1, rescale=True, save_periodic=25, save_results=True, share_inout_emb=True, stopping_criterion='', tasks='sr', test_env_seed=1, tokens_per_batch=10000, train_noise_gamma=0.0, validation_metrics='r2_zero,r2,accuracy_l1_biggio,accuracy_l1_1e-3,accuracy_l1_1e-2,accuracy_l1_1e-1,_complexity', windows=False)"
      ]
     },
     "execution_count": 6,
     "metadata": {},
     "output_type": "execute_result"
    }
   ],
   "source": [
    "default_params"
   ]
  },
  {
   "cell_type": "code",
   "execution_count": 17,
   "id": "d557de69-e000-417c-a85a-89a74958f74b",
   "metadata": {},
   "outputs": [
    {
     "name": "stdout",
     "output_type": "stream",
     "text": [
      "\n"
     ]
    }
   ],
   "source": [
    "default_params.global_rank =1\n",
    "dataloader = create_train_iterator(env, data_path=\"\", params=default_params)"
   ]
  },
  {
   "cell_type": "code",
   "execution_count": 18,
   "id": "68545643-ce0c-44f8-b23d-c3bc08da5cb1",
   "metadata": {},
   "outputs": [
    {
     "name": "stdout",
     "output_type": "stream",
     "text": [
      "\n"
     ]
    }
   ],
   "source": [
    "iterator = create_test_iterator(env, \"\", params=default_params)\n"
   ]
  },
  {
   "cell_type": "code",
   "execution_count": 4,
   "id": "042accdf-7bd7-4120-a778-3713659d6974",
   "metadata": {},
   "outputs": [
    {
     "name": "stdout",
     "output_type": "stream",
     "text": [
      "(x_1-((C_0+x_0)*((C_0-(((((x_4-C_0)*x_0)*x_1)-C_0)*x_2))+C_0)))\n"
     ]
    }
   ],
   "source": []
  },
  {
   "cell_type": "code",
   "execution_count": 12,
   "id": "899a5f12-fede-4533-81ad-865b285c1033",
   "metadata": {},
   "outputs": [],
   "source": [
    " x=np.array([0.2,2.2,2])"
   ]
  },
  {
   "cell_type": "code",
   "execution_count": 13,
   "id": "df567852-a084-4063-a439-60fc5140b5bc",
   "metadata": {},
   "outputs": [
    {
     "data": {
      "text/plain": [
       "array([[0.2],\n",
       "       [2.2],\n",
       "       [2. ]])"
      ]
     },
     "execution_count": 13,
     "metadata": {},
     "output_type": "execute_result"
    }
   ],
   "source": [
    "x[:, None]"
   ]
  },
  {
   "cell_type": "code",
   "execution_count": 5,
   "id": "809c589e-f876-4e80-bef5-cb478cbab964",
   "metadata": {},
   "outputs": [],
   "source": [
    "from symbolicregression_env.tokenizers import FloatTokenizer, ExpressionTokenizer\n",
    "from symbolicregression_env.envs import Node"
   ]
  },
  {
   "cell_type": "code",
   "execution_count": 3,
   "id": "f7aa8fed-ccc3-49a3-9801-a1ee77659f54",
   "metadata": {},
   "outputs": [
    {
     "ename": "NodeParseError",
     "evalue": "nothing found",
     "output_type": "error",
     "traceback": [
      "\u001b[0;31m---------------------------------------------------------------------------\u001b[0m",
      "\u001b[0;31mNodeParseError\u001b[0m                            Traceback (most recent call last)",
      "\u001b[0;32m<ipython-input-3-26e73b0192ea>\u001b[0m in \u001b[0;36m<module>\u001b[0;34m\u001b[0m\n\u001b[1;32m      1\u001b[0m \u001b[0mf\u001b[0m \u001b[0;34m=\u001b[0m \u001b[0mFloatTokenizer\u001b[0m\u001b[0;34m(\u001b[0m\u001b[0;34m)\u001b[0m\u001b[0;34m\u001b[0m\u001b[0;34m\u001b[0m\u001b[0m\n\u001b[1;32m      2\u001b[0m \u001b[0me\u001b[0m \u001b[0;34m=\u001b[0m \u001b[0mExpressionTokenizer\u001b[0m\u001b[0;34m(\u001b[0m\u001b[0;34m)\u001b[0m\u001b[0;34m\u001b[0m\u001b[0;34m\u001b[0m\u001b[0m\n\u001b[0;32m----> 3\u001b[0;31m \u001b[0mtype\u001b[0m\u001b[0;34m(\u001b[0m\u001b[0me\u001b[0m\u001b[0;34m.\u001b[0m\u001b[0mdecode\u001b[0m\u001b[0;34m(\u001b[0m\u001b[0;34m[\u001b[0m\u001b[0;34m]\u001b[0m\u001b[0;34m)\u001b[0m\u001b[0;34m)\u001b[0m\u001b[0;34m\u001b[0m\u001b[0;34m\u001b[0m\u001b[0m\n\u001b[0m",
      "\u001b[0;32m~/anaconda3/envs/evariste/lib/python3.8/site-packages/symbolicregression_env/tokenizers/expression_tokenizer.py\u001b[0m in \u001b[0;36mdecode\u001b[0;34m(self, tokens)\u001b[0m\n\u001b[1;32m     28\u001b[0m     \u001b[0;32mdef\u001b[0m \u001b[0mdecode\u001b[0m\u001b[0;34m(\u001b[0m\u001b[0mself\u001b[0m\u001b[0;34m,\u001b[0m \u001b[0mtokens\u001b[0m\u001b[0;34m:\u001b[0m \u001b[0mList\u001b[0m\u001b[0;34m[\u001b[0m\u001b[0mstr\u001b[0m\u001b[0;34m]\u001b[0m\u001b[0;34m)\u001b[0m \u001b[0;34m->\u001b[0m \u001b[0mNode\u001b[0m\u001b[0;34m:\u001b[0m\u001b[0;34m\u001b[0m\u001b[0;34m\u001b[0m\u001b[0m\n\u001b[1;32m     29\u001b[0m         \u001b[0;32mif\u001b[0m \u001b[0mlen\u001b[0m\u001b[0;34m(\u001b[0m\u001b[0mtokens\u001b[0m\u001b[0;34m)\u001b[0m\u001b[0;34m==\u001b[0m\u001b[0;36m0\u001b[0m\u001b[0;34m:\u001b[0m\u001b[0;34m\u001b[0m\u001b[0;34m\u001b[0m\u001b[0m\n\u001b[0;32m---> 30\u001b[0;31m             \u001b[0;32mraise\u001b[0m \u001b[0mNodeParseError\u001b[0m\u001b[0;34m(\u001b[0m\u001b[0;34m\"nothing found\"\u001b[0m\u001b[0;34m)\u001b[0m\u001b[0;34m\u001b[0m\u001b[0;34m\u001b[0m\u001b[0m\n\u001b[0m\u001b[1;32m     31\u001b[0m         \u001b[0mprefix\u001b[0m \u001b[0;34m=\u001b[0m \u001b[0;34m[\u001b[0m\u001b[0;34m]\u001b[0m\u001b[0;34m\u001b[0m\u001b[0;34m\u001b[0m\u001b[0m\n\u001b[1;32m     32\u001b[0m         \u001b[0mk\u001b[0m \u001b[0;34m=\u001b[0m \u001b[0;36m0\u001b[0m\u001b[0;34m\u001b[0m\u001b[0;34m\u001b[0m\u001b[0m\n",
      "\u001b[0;31mNodeParseError\u001b[0m: nothing found"
     ]
    }
   ],
   "source": [
    "f = FloatTokenizer()\n",
    "e = ExpressionTokenizer()\n",
    "type(e.decode([]))"
   ]
  },
  {
   "cell_type": "code",
   "execution_count": 3,
   "id": "8e17c17e-f48d-44b4-ba26-323474238249",
   "metadata": {},
   "outputs": [
    {
     "data": {
      "text/plain": [
       "['S+', 'N0000', 'E0']"
      ]
     },
     "execution_count": 3,
     "metadata": {},
     "output_type": "execute_result"
    }
   ],
   "source": [
    "f.encode(-1e-1000)"
   ]
  },
  {
   "cell_type": "code",
   "execution_count": 7,
   "id": "0fdaac11-ee9b-4ca0-a7c6-b70d57f8065a",
   "metadata": {},
   "outputs": [
    {
     "data": {
      "text/plain": [
       "'None'"
      ]
     },
     "execution_count": 7,
     "metadata": {},
     "output_type": "execute_result"
    }
   ],
   "source": [
    "Node().prefix()"
   ]
  },
  {
   "cell_type": "code",
   "execution_count": 14,
   "id": "50a8e136-89af-420b-a16a-0a06c7825e18",
   "metadata": {},
   "outputs": [
    {
     "data": {
      "text/plain": [
       "True"
      ]
     },
     "execution_count": 14,
     "metadata": {},
     "output_type": "execute_result"
    }
   ],
   "source": [
    "4%-1==0"
   ]
  },
  {
   "cell_type": "code",
   "execution_count": 15,
   "id": "14f936a8-db27-41e9-881d-1a90af78a26b",
   "metadata": {},
   "outputs": [],
   "source": [
    "from pathlib import Path\n",
    "\n",
    "p = Path(\"/private/home/pakamienny/Research_2/pmlb/datasets/\")\n"
   ]
  },
  {
   "cell_type": "code",
   "execution_count": 20,
   "id": "79ace132-8ebd-4a20-96c0-690e7a7e1acc",
   "metadata": {},
   "outputs": [
    {
     "data": {
      "text/plain": [
       "[PosixPath('/private/home/pakamienny/Research_2/pmlb/datasets/1027_ESL/1027_ESL.tsv.gz'),\n",
       " PosixPath('/private/home/pakamienny/Research_2/pmlb/datasets/1028_SWD/1028_SWD.tsv.gz'),\n",
       " PosixPath('/private/home/pakamienny/Research_2/pmlb/datasets/1029_LEV/1029_LEV.tsv.gz'),\n",
       " PosixPath('/private/home/pakamienny/Research_2/pmlb/datasets/1030_ERA/1030_ERA.tsv.gz'),\n",
       " PosixPath('/private/home/pakamienny/Research_2/pmlb/datasets/1096_FacultySalaries/1096_FacultySalaries.tsv.gz'),\n",
       " PosixPath('/private/home/pakamienny/Research_2/pmlb/datasets/1191_BNG_pbc/1191_BNG_pbc.tsv.gz'),\n",
       " PosixPath('/private/home/pakamienny/Research_2/pmlb/datasets/1193_BNG_lowbwt/1193_BNG_lowbwt.tsv.gz'),\n",
       " PosixPath('/private/home/pakamienny/Research_2/pmlb/datasets/1196_BNG_pharynx/1196_BNG_pharynx.tsv.gz'),\n",
       " PosixPath('/private/home/pakamienny/Research_2/pmlb/datasets/1199_BNG_echoMonths/1199_BNG_echoMonths.tsv.gz'),\n",
       " PosixPath('/private/home/pakamienny/Research_2/pmlb/datasets/1201_BNG_breastTumor/1201_BNG_breastTumor.tsv.gz'),\n",
       " PosixPath('/private/home/pakamienny/Research_2/pmlb/datasets/1203_BNG_pwLinear/1203_BNG_pwLinear.tsv.gz'),\n",
       " PosixPath('/private/home/pakamienny/Research_2/pmlb/datasets/1595_poker/1595_poker.tsv.gz'),\n",
       " PosixPath('/private/home/pakamienny/Research_2/pmlb/datasets/192_vineyard/192_vineyard.tsv.gz'),\n",
       " PosixPath('/private/home/pakamienny/Research_2/pmlb/datasets/195_auto_price/195_auto_price.tsv.gz'),\n",
       " PosixPath('/private/home/pakamienny/Research_2/pmlb/datasets/201_pol/201_pol.tsv.gz'),\n",
       " PosixPath('/private/home/pakamienny/Research_2/pmlb/datasets/207_autoPrice/207_autoPrice.tsv.gz'),\n",
       " PosixPath('/private/home/pakamienny/Research_2/pmlb/datasets/210_cloud/210_cloud.tsv.gz'),\n",
       " PosixPath('/private/home/pakamienny/Research_2/pmlb/datasets/215_2dplanes/215_2dplanes.tsv.gz'),\n",
       " PosixPath('/private/home/pakamienny/Research_2/pmlb/datasets/218_house_8L/218_house_8L.tsv.gz'),\n",
       " PosixPath('/private/home/pakamienny/Research_2/pmlb/datasets/225_puma8NH/225_puma8NH.tsv.gz'),\n",
       " PosixPath('/private/home/pakamienny/Research_2/pmlb/datasets/228_elusage/228_elusage.tsv.gz'),\n",
       " PosixPath('/private/home/pakamienny/Research_2/pmlb/datasets/229_pwLinear/229_pwLinear.tsv.gz'),\n",
       " PosixPath('/private/home/pakamienny/Research_2/pmlb/datasets/230_machine_cpu/230_machine_cpu.tsv.gz'),\n",
       " PosixPath('/private/home/pakamienny/Research_2/pmlb/datasets/344_mv/344_mv.tsv.gz'),\n",
       " PosixPath('/private/home/pakamienny/Research_2/pmlb/datasets/485_analcatdata_vehicle/485_analcatdata_vehicle.tsv.gz'),\n",
       " PosixPath('/private/home/pakamienny/Research_2/pmlb/datasets/519_vinnie/519_vinnie.tsv.gz'),\n",
       " PosixPath('/private/home/pakamienny/Research_2/pmlb/datasets/522_pm10/522_pm10.tsv.gz'),\n",
       " PosixPath('/private/home/pakamienny/Research_2/pmlb/datasets/523_analcatdata_neavote/523_analcatdata_neavote.tsv.gz'),\n",
       " PosixPath('/private/home/pakamienny/Research_2/pmlb/datasets/529_pollen/529_pollen.tsv.gz'),\n",
       " PosixPath('/private/home/pakamienny/Research_2/pmlb/datasets/537_houses/537_houses.tsv.gz'),\n",
       " PosixPath('/private/home/pakamienny/Research_2/pmlb/datasets/547_no2/547_no2.tsv.gz'),\n",
       " PosixPath('/private/home/pakamienny/Research_2/pmlb/datasets/556_analcatdata_apnea2/556_analcatdata_apnea2.tsv.gz'),\n",
       " PosixPath('/private/home/pakamienny/Research_2/pmlb/datasets/557_analcatdata_apnea1/557_analcatdata_apnea1.tsv.gz'),\n",
       " PosixPath('/private/home/pakamienny/Research_2/pmlb/datasets/561_cpu/561_cpu.tsv.gz'),\n",
       " PosixPath('/private/home/pakamienny/Research_2/pmlb/datasets/564_fried/564_fried.tsv.gz'),\n",
       " PosixPath('/private/home/pakamienny/Research_2/pmlb/datasets/579_fri_c0_250_5/579_fri_c0_250_5.tsv.gz'),\n",
       " PosixPath('/private/home/pakamienny/Research_2/pmlb/datasets/591_fri_c1_100_10/591_fri_c1_100_10.tsv.gz'),\n",
       " PosixPath('/private/home/pakamienny/Research_2/pmlb/datasets/593_fri_c1_1000_10/593_fri_c1_1000_10.tsv.gz'),\n",
       " PosixPath('/private/home/pakamienny/Research_2/pmlb/datasets/594_fri_c2_100_5/594_fri_c2_100_5.tsv.gz'),\n",
       " PosixPath('/private/home/pakamienny/Research_2/pmlb/datasets/595_fri_c0_1000_10/595_fri_c0_1000_10.tsv.gz'),\n",
       " PosixPath('/private/home/pakamienny/Research_2/pmlb/datasets/596_fri_c2_250_5/596_fri_c2_250_5.tsv.gz'),\n",
       " PosixPath('/private/home/pakamienny/Research_2/pmlb/datasets/597_fri_c2_500_5/597_fri_c2_500_5.tsv.gz'),\n",
       " PosixPath('/private/home/pakamienny/Research_2/pmlb/datasets/599_fri_c2_1000_5/599_fri_c2_1000_5.tsv.gz'),\n",
       " PosixPath('/private/home/pakamienny/Research_2/pmlb/datasets/601_fri_c1_250_5/601_fri_c1_250_5.tsv.gz'),\n",
       " PosixPath('/private/home/pakamienny/Research_2/pmlb/datasets/602_fri_c3_250_10/602_fri_c3_250_10.tsv.gz'),\n",
       " PosixPath('/private/home/pakamienny/Research_2/pmlb/datasets/604_fri_c4_500_10/604_fri_c4_500_10.tsv.gz'),\n",
       " PosixPath('/private/home/pakamienny/Research_2/pmlb/datasets/606_fri_c2_1000_10/606_fri_c2_1000_10.tsv.gz'),\n",
       " PosixPath('/private/home/pakamienny/Research_2/pmlb/datasets/608_fri_c3_1000_10/608_fri_c3_1000_10.tsv.gz'),\n",
       " PosixPath('/private/home/pakamienny/Research_2/pmlb/datasets/609_fri_c0_1000_5/609_fri_c0_1000_5.tsv.gz'),\n",
       " PosixPath('/private/home/pakamienny/Research_2/pmlb/datasets/611_fri_c3_100_5/611_fri_c3_100_5.tsv.gz'),\n",
       " PosixPath('/private/home/pakamienny/Research_2/pmlb/datasets/612_fri_c1_1000_5/612_fri_c1_1000_5.tsv.gz'),\n",
       " PosixPath('/private/home/pakamienny/Research_2/pmlb/datasets/613_fri_c3_250_5/613_fri_c3_250_5.tsv.gz'),\n",
       " PosixPath('/private/home/pakamienny/Research_2/pmlb/datasets/615_fri_c4_250_10/615_fri_c4_250_10.tsv.gz'),\n",
       " PosixPath('/private/home/pakamienny/Research_2/pmlb/datasets/617_fri_c3_500_5/617_fri_c3_500_5.tsv.gz'),\n",
       " PosixPath('/private/home/pakamienny/Research_2/pmlb/datasets/621_fri_c0_100_10/621_fri_c0_100_10.tsv.gz'),\n",
       " PosixPath('/private/home/pakamienny/Research_2/pmlb/datasets/623_fri_c4_1000_10/623_fri_c4_1000_10.tsv.gz'),\n",
       " PosixPath('/private/home/pakamienny/Research_2/pmlb/datasets/624_fri_c0_100_5/624_fri_c0_100_5.tsv.gz'),\n",
       " PosixPath('/private/home/pakamienny/Research_2/pmlb/datasets/627_fri_c2_500_10/627_fri_c2_500_10.tsv.gz'),\n",
       " PosixPath('/private/home/pakamienny/Research_2/pmlb/datasets/628_fri_c3_1000_5/628_fri_c3_1000_5.tsv.gz'),\n",
       " PosixPath('/private/home/pakamienny/Research_2/pmlb/datasets/631_fri_c1_500_5/631_fri_c1_500_5.tsv.gz'),\n",
       " PosixPath('/private/home/pakamienny/Research_2/pmlb/datasets/634_fri_c2_100_10/634_fri_c2_100_10.tsv.gz'),\n",
       " PosixPath('/private/home/pakamienny/Research_2/pmlb/datasets/635_fri_c0_250_10/635_fri_c0_250_10.tsv.gz'),\n",
       " PosixPath('/private/home/pakamienny/Research_2/pmlb/datasets/641_fri_c1_500_10/641_fri_c1_500_10.tsv.gz'),\n",
       " PosixPath('/private/home/pakamienny/Research_2/pmlb/datasets/646_fri_c3_500_10/646_fri_c3_500_10.tsv.gz'),\n",
       " PosixPath('/private/home/pakamienny/Research_2/pmlb/datasets/647_fri_c1_250_10/647_fri_c1_250_10.tsv.gz'),\n",
       " PosixPath('/private/home/pakamienny/Research_2/pmlb/datasets/649_fri_c0_500_5/649_fri_c0_500_5.tsv.gz'),\n",
       " PosixPath('/private/home/pakamienny/Research_2/pmlb/datasets/654_fri_c0_500_10/654_fri_c0_500_10.tsv.gz'),\n",
       " PosixPath('/private/home/pakamienny/Research_2/pmlb/datasets/656_fri_c1_100_5/656_fri_c1_100_5.tsv.gz'),\n",
       " PosixPath('/private/home/pakamienny/Research_2/pmlb/datasets/657_fri_c2_250_10/657_fri_c2_250_10.tsv.gz'),\n",
       " PosixPath('/private/home/pakamienny/Research_2/pmlb/datasets/659_sleuth_ex1714/659_sleuth_ex1714.tsv.gz'),\n",
       " PosixPath('/private/home/pakamienny/Research_2/pmlb/datasets/663_rabe_266/663_rabe_266.tsv.gz'),\n",
       " PosixPath('/private/home/pakamienny/Research_2/pmlb/datasets/665_sleuth_case2002/665_sleuth_case2002.tsv.gz'),\n",
       " PosixPath('/private/home/pakamienny/Research_2/pmlb/datasets/666_rmftsa_ladata/666_rmftsa_ladata.tsv.gz'),\n",
       " PosixPath('/private/home/pakamienny/Research_2/pmlb/datasets/678_visualizing_environmental/678_visualizing_environmental.tsv.gz'),\n",
       " PosixPath('/private/home/pakamienny/Research_2/pmlb/datasets/687_sleuth_ex1605/687_sleuth_ex1605.tsv.gz'),\n",
       " PosixPath('/private/home/pakamienny/Research_2/pmlb/datasets/690_visualizing_galaxy/690_visualizing_galaxy.tsv.gz'),\n",
       " PosixPath('/private/home/pakamienny/Research_2/pmlb/datasets/706_sleuth_case1202/706_sleuth_case1202.tsv.gz'),\n",
       " PosixPath('/private/home/pakamienny/Research_2/pmlb/datasets/712_chscase_geyser1/712_chscase_geyser1.tsv.gz'),\n",
       " PosixPath('/private/home/pakamienny/Research_2/pmlb/datasets/GAMETES_Epistasis_2_Way_1000atts_0.4H_EDM_1_EDM_1_1/GAMETES_Epistasis_2_Way_1000atts_0.4H_EDM_1_EDM_1_1.tsv.gz'),\n",
       " PosixPath('/private/home/pakamienny/Research_2/pmlb/datasets/GAMETES_Epistasis_2_Way_20atts_0.1H_EDM_1_1/GAMETES_Epistasis_2_Way_20atts_0.1H_EDM_1_1.tsv.gz'),\n",
       " PosixPath('/private/home/pakamienny/Research_2/pmlb/datasets/GAMETES_Epistasis_2_Way_20atts_0.4H_EDM_1_1/GAMETES_Epistasis_2_Way_20atts_0.4H_EDM_1_1.tsv.gz'),\n",
       " PosixPath('/private/home/pakamienny/Research_2/pmlb/datasets/GAMETES_Epistasis_3_Way_20atts_0.2H_EDM_1_1/GAMETES_Epistasis_3_Way_20atts_0.2H_EDM_1_1.tsv.gz'),\n",
       " PosixPath('/private/home/pakamienny/Research_2/pmlb/datasets/GAMETES_Heterogeneity_20atts_1600_Het_0.4_0.2_50_EDM_2_001/GAMETES_Heterogeneity_20atts_1600_Het_0.4_0.2_50_EDM_2_001.tsv.gz'),\n",
       " PosixPath('/private/home/pakamienny/Research_2/pmlb/datasets/GAMETES_Heterogeneity_20atts_1600_Het_0.4_0.2_75_EDM_2_001/GAMETES_Heterogeneity_20atts_1600_Het_0.4_0.2_75_EDM_2_001.tsv.gz'),\n",
       " PosixPath('/private/home/pakamienny/Research_2/pmlb/datasets/Hill_Valley_with_noise/Hill_Valley_with_noise.tsv.gz'),\n",
       " PosixPath('/private/home/pakamienny/Research_2/pmlb/datasets/Hill_Valley_without_noise/Hill_Valley_without_noise.tsv.gz'),\n",
       " PosixPath('/private/home/pakamienny/Research_2/pmlb/datasets/adult/adult.tsv.gz'),\n",
       " PosixPath('/private/home/pakamienny/Research_2/pmlb/datasets/agaricus_lepiota/agaricus_lepiota.tsv.gz'),\n",
       " PosixPath('/private/home/pakamienny/Research_2/pmlb/datasets/allbp/allbp.tsv.gz'),\n",
       " PosixPath('/private/home/pakamienny/Research_2/pmlb/datasets/allhyper/allhyper.tsv.gz'),\n",
       " PosixPath('/private/home/pakamienny/Research_2/pmlb/datasets/allhypo/allhypo.tsv.gz'),\n",
       " PosixPath('/private/home/pakamienny/Research_2/pmlb/datasets/allrep/allrep.tsv.gz'),\n",
       " PosixPath('/private/home/pakamienny/Research_2/pmlb/datasets/analcatdata_aids/analcatdata_aids.tsv.gz'),\n",
       " PosixPath('/private/home/pakamienny/Research_2/pmlb/datasets/analcatdata_asbestos/analcatdata_asbestos.tsv.gz'),\n",
       " PosixPath('/private/home/pakamienny/Research_2/pmlb/datasets/analcatdata_authorship/analcatdata_authorship.tsv.gz'),\n",
       " PosixPath('/private/home/pakamienny/Research_2/pmlb/datasets/analcatdata_bankruptcy/analcatdata_bankruptcy.tsv.gz'),\n",
       " PosixPath('/private/home/pakamienny/Research_2/pmlb/datasets/analcatdata_boxing1/analcatdata_boxing1.tsv.gz'),\n",
       " PosixPath('/private/home/pakamienny/Research_2/pmlb/datasets/analcatdata_boxing2/analcatdata_boxing2.tsv.gz'),\n",
       " PosixPath('/private/home/pakamienny/Research_2/pmlb/datasets/analcatdata_creditscore/analcatdata_creditscore.tsv.gz'),\n",
       " PosixPath('/private/home/pakamienny/Research_2/pmlb/datasets/analcatdata_cyyoung8092/analcatdata_cyyoung8092.tsv.gz'),\n",
       " PosixPath('/private/home/pakamienny/Research_2/pmlb/datasets/analcatdata_cyyoung9302/analcatdata_cyyoung9302.tsv.gz'),\n",
       " PosixPath('/private/home/pakamienny/Research_2/pmlb/datasets/analcatdata_dmft/analcatdata_dmft.tsv.gz'),\n",
       " PosixPath('/private/home/pakamienny/Research_2/pmlb/datasets/analcatdata_fraud/analcatdata_fraud.tsv.gz'),\n",
       " PosixPath('/private/home/pakamienny/Research_2/pmlb/datasets/analcatdata_germangss/analcatdata_germangss.tsv.gz'),\n",
       " PosixPath('/private/home/pakamienny/Research_2/pmlb/datasets/analcatdata_happiness/analcatdata_happiness.tsv.gz'),\n",
       " PosixPath('/private/home/pakamienny/Research_2/pmlb/datasets/analcatdata_japansolvent/analcatdata_japansolvent.tsv.gz'),\n",
       " PosixPath('/private/home/pakamienny/Research_2/pmlb/datasets/analcatdata_lawsuit/analcatdata_lawsuit.tsv.gz'),\n",
       " PosixPath('/private/home/pakamienny/Research_2/pmlb/datasets/ann_thyroid/ann_thyroid.tsv.gz'),\n",
       " PosixPath('/private/home/pakamienny/Research_2/pmlb/datasets/appendicitis/appendicitis.tsv.gz'),\n",
       " PosixPath('/private/home/pakamienny/Research_2/pmlb/datasets/australian/australian.tsv.gz'),\n",
       " PosixPath('/private/home/pakamienny/Research_2/pmlb/datasets/auto/auto.tsv.gz'),\n",
       " PosixPath('/private/home/pakamienny/Research_2/pmlb/datasets/backache/backache.tsv.gz'),\n",
       " PosixPath('/private/home/pakamienny/Research_2/pmlb/datasets/balance_scale/balance_scale.tsv.gz'),\n",
       " PosixPath('/private/home/pakamienny/Research_2/pmlb/datasets/banana/banana.tsv.gz'),\n",
       " PosixPath('/private/home/pakamienny/Research_2/pmlb/datasets/biomed/biomed.tsv.gz'),\n",
       " PosixPath('/private/home/pakamienny/Research_2/pmlb/datasets/breast/breast.tsv.gz'),\n",
       " PosixPath('/private/home/pakamienny/Research_2/pmlb/datasets/breast_cancer/breast_cancer.tsv.gz'),\n",
       " PosixPath('/private/home/pakamienny/Research_2/pmlb/datasets/breast_cancer_wisconsin/breast_cancer_wisconsin.tsv.gz'),\n",
       " PosixPath('/private/home/pakamienny/Research_2/pmlb/datasets/breast_w/breast_w.tsv.gz'),\n",
       " PosixPath('/private/home/pakamienny/Research_2/pmlb/datasets/buggyCrx/buggyCrx.tsv.gz'),\n",
       " PosixPath('/private/home/pakamienny/Research_2/pmlb/datasets/bupa/bupa.tsv.gz'),\n",
       " PosixPath('/private/home/pakamienny/Research_2/pmlb/datasets/calendarDOW/calendarDOW.tsv.gz'),\n",
       " PosixPath('/private/home/pakamienny/Research_2/pmlb/datasets/car/car.tsv.gz'),\n",
       " PosixPath('/private/home/pakamienny/Research_2/pmlb/datasets/car_evaluation/car_evaluation.tsv.gz'),\n",
       " PosixPath('/private/home/pakamienny/Research_2/pmlb/datasets/cars/cars.tsv.gz'),\n",
       " PosixPath('/private/home/pakamienny/Research_2/pmlb/datasets/chess/chess.tsv.gz'),\n",
       " PosixPath('/private/home/pakamienny/Research_2/pmlb/datasets/churn/churn.tsv.gz'),\n",
       " PosixPath('/private/home/pakamienny/Research_2/pmlb/datasets/clean1/clean1.tsv.gz'),\n",
       " PosixPath('/private/home/pakamienny/Research_2/pmlb/datasets/clean2/clean2.tsv.gz'),\n",
       " PosixPath('/private/home/pakamienny/Research_2/pmlb/datasets/cleve/cleve.tsv.gz'),\n",
       " PosixPath('/private/home/pakamienny/Research_2/pmlb/datasets/cleveland/cleveland.tsv.gz'),\n",
       " PosixPath('/private/home/pakamienny/Research_2/pmlb/datasets/cleveland_nominal/cleveland_nominal.tsv.gz'),\n",
       " PosixPath('/private/home/pakamienny/Research_2/pmlb/datasets/cloud/cloud.tsv.gz'),\n",
       " PosixPath('/private/home/pakamienny/Research_2/pmlb/datasets/cmc/cmc.tsv.gz'),\n",
       " PosixPath('/private/home/pakamienny/Research_2/pmlb/datasets/coil2000/coil2000.tsv.gz'),\n",
       " PosixPath('/private/home/pakamienny/Research_2/pmlb/datasets/colic/colic.tsv.gz'),\n",
       " PosixPath('/private/home/pakamienny/Research_2/pmlb/datasets/collins/collins.tsv.gz'),\n",
       " PosixPath('/private/home/pakamienny/Research_2/pmlb/datasets/confidence/confidence.tsv.gz'),\n",
       " PosixPath('/private/home/pakamienny/Research_2/pmlb/datasets/connect_4/connect_4.tsv.gz'),\n",
       " PosixPath('/private/home/pakamienny/Research_2/pmlb/datasets/contraceptive/contraceptive.tsv.gz'),\n",
       " PosixPath('/private/home/pakamienny/Research_2/pmlb/datasets/corral/corral.tsv.gz'),\n",
       " PosixPath('/private/home/pakamienny/Research_2/pmlb/datasets/credit_a/credit_a.tsv.gz'),\n",
       " PosixPath('/private/home/pakamienny/Research_2/pmlb/datasets/credit_g/credit_g.tsv.gz'),\n",
       " PosixPath('/private/home/pakamienny/Research_2/pmlb/datasets/crx/crx.tsv.gz'),\n",
       " PosixPath('/private/home/pakamienny/Research_2/pmlb/datasets/dermatology/dermatology.tsv.gz'),\n",
       " PosixPath('/private/home/pakamienny/Research_2/pmlb/datasets/diabetes/diabetes.tsv.gz'),\n",
       " PosixPath('/private/home/pakamienny/Research_2/pmlb/datasets/dis/dis.tsv.gz'),\n",
       " PosixPath('/private/home/pakamienny/Research_2/pmlb/datasets/dna/dna.tsv.gz'),\n",
       " PosixPath('/private/home/pakamienny/Research_2/pmlb/datasets/ecoli/ecoli.tsv.gz'),\n",
       " PosixPath('/private/home/pakamienny/Research_2/pmlb/datasets/fars/fars.tsv.gz'),\n",
       " PosixPath('/private/home/pakamienny/Research_2/pmlb/datasets/feynman_III_10_19/feynman_III_10_19.tsv.gz'),\n",
       " PosixPath('/private/home/pakamienny/Research_2/pmlb/datasets/feynman_III_12_43/feynman_III_12_43.tsv.gz'),\n",
       " PosixPath('/private/home/pakamienny/Research_2/pmlb/datasets/feynman_III_13_18/feynman_III_13_18.tsv.gz'),\n",
       " PosixPath('/private/home/pakamienny/Research_2/pmlb/datasets/feynman_III_14_14/feynman_III_14_14.tsv.gz'),\n",
       " PosixPath('/private/home/pakamienny/Research_2/pmlb/datasets/feynman_III_15_12/feynman_III_15_12.tsv.gz'),\n",
       " PosixPath('/private/home/pakamienny/Research_2/pmlb/datasets/feynman_III_15_14/feynman_III_15_14.tsv.gz'),\n",
       " PosixPath('/private/home/pakamienny/Research_2/pmlb/datasets/feynman_III_15_27/feynman_III_15_27.tsv.gz'),\n",
       " PosixPath('/private/home/pakamienny/Research_2/pmlb/datasets/feynman_III_17_37/feynman_III_17_37.tsv.gz'),\n",
       " PosixPath('/private/home/pakamienny/Research_2/pmlb/datasets/feynman_III_19_51/feynman_III_19_51.tsv.gz'),\n",
       " PosixPath('/private/home/pakamienny/Research_2/pmlb/datasets/feynman_III_21_20/feynman_III_21_20.tsv.gz'),\n",
       " PosixPath('/private/home/pakamienny/Research_2/pmlb/datasets/feynman_III_4_32/feynman_III_4_32.tsv.gz'),\n",
       " PosixPath('/private/home/pakamienny/Research_2/pmlb/datasets/feynman_III_4_33/feynman_III_4_33.tsv.gz'),\n",
       " PosixPath('/private/home/pakamienny/Research_2/pmlb/datasets/feynman_III_7_38/feynman_III_7_38.tsv.gz'),\n",
       " PosixPath('/private/home/pakamienny/Research_2/pmlb/datasets/feynman_III_8_54/feynman_III_8_54.tsv.gz'),\n",
       " PosixPath('/private/home/pakamienny/Research_2/pmlb/datasets/feynman_III_9_52/feynman_III_9_52.tsv.gz'),\n",
       " PosixPath('/private/home/pakamienny/Research_2/pmlb/datasets/feynman_II_10_9/feynman_II_10_9.tsv.gz'),\n",
       " PosixPath('/private/home/pakamienny/Research_2/pmlb/datasets/feynman_II_11_20/feynman_II_11_20.tsv.gz'),\n",
       " PosixPath('/private/home/pakamienny/Research_2/pmlb/datasets/feynman_II_11_27/feynman_II_11_27.tsv.gz'),\n",
       " PosixPath('/private/home/pakamienny/Research_2/pmlb/datasets/feynman_II_11_28/feynman_II_11_28.tsv.gz'),\n",
       " PosixPath('/private/home/pakamienny/Research_2/pmlb/datasets/feynman_II_11_3/feynman_II_11_3.tsv.gz'),\n",
       " PosixPath('/private/home/pakamienny/Research_2/pmlb/datasets/feynman_II_13_17/feynman_II_13_17.tsv.gz'),\n",
       " PosixPath('/private/home/pakamienny/Research_2/pmlb/datasets/feynman_II_13_23/feynman_II_13_23.tsv.gz'),\n",
       " PosixPath('/private/home/pakamienny/Research_2/pmlb/datasets/feynman_II_13_34/feynman_II_13_34.tsv.gz'),\n",
       " PosixPath('/private/home/pakamienny/Research_2/pmlb/datasets/feynman_II_15_4/feynman_II_15_4.tsv.gz'),\n",
       " PosixPath('/private/home/pakamienny/Research_2/pmlb/datasets/feynman_II_15_5/feynman_II_15_5.tsv.gz'),\n",
       " PosixPath('/private/home/pakamienny/Research_2/pmlb/datasets/feynman_II_21_32/feynman_II_21_32.tsv.gz'),\n",
       " PosixPath('/private/home/pakamienny/Research_2/pmlb/datasets/feynman_II_24_17/feynman_II_24_17.tsv.gz'),\n",
       " PosixPath('/private/home/pakamienny/Research_2/pmlb/datasets/feynman_II_27_16/feynman_II_27_16.tsv.gz'),\n",
       " PosixPath('/private/home/pakamienny/Research_2/pmlb/datasets/feynman_II_27_18/feynman_II_27_18.tsv.gz'),\n",
       " PosixPath('/private/home/pakamienny/Research_2/pmlb/datasets/feynman_II_2_42/feynman_II_2_42.tsv.gz'),\n",
       " PosixPath('/private/home/pakamienny/Research_2/pmlb/datasets/feynman_II_34_11/feynman_II_34_11.tsv.gz'),\n",
       " PosixPath('/private/home/pakamienny/Research_2/pmlb/datasets/feynman_II_34_2/feynman_II_34_2.tsv.gz'),\n",
       " PosixPath('/private/home/pakamienny/Research_2/pmlb/datasets/feynman_II_34_29a/feynman_II_34_29a.tsv.gz'),\n",
       " PosixPath('/private/home/pakamienny/Research_2/pmlb/datasets/feynman_II_34_29b/feynman_II_34_29b.tsv.gz'),\n",
       " PosixPath('/private/home/pakamienny/Research_2/pmlb/datasets/feynman_II_34_2a/feynman_II_34_2a.tsv.gz'),\n",
       " PosixPath('/private/home/pakamienny/Research_2/pmlb/datasets/feynman_II_35_18/feynman_II_35_18.tsv.gz'),\n",
       " PosixPath('/private/home/pakamienny/Research_2/pmlb/datasets/feynman_II_35_21/feynman_II_35_21.tsv.gz'),\n",
       " PosixPath('/private/home/pakamienny/Research_2/pmlb/datasets/feynman_II_36_38/feynman_II_36_38.tsv.gz'),\n",
       " PosixPath('/private/home/pakamienny/Research_2/pmlb/datasets/feynman_II_37_1/feynman_II_37_1.tsv.gz'),\n",
       " PosixPath('/private/home/pakamienny/Research_2/pmlb/datasets/feynman_II_38_14/feynman_II_38_14.tsv.gz'),\n",
       " PosixPath('/private/home/pakamienny/Research_2/pmlb/datasets/feynman_II_38_3/feynman_II_38_3.tsv.gz'),\n",
       " PosixPath('/private/home/pakamienny/Research_2/pmlb/datasets/feynman_II_3_24/feynman_II_3_24.tsv.gz'),\n",
       " PosixPath('/private/home/pakamienny/Research_2/pmlb/datasets/feynman_II_4_23/feynman_II_4_23.tsv.gz'),\n",
       " PosixPath('/private/home/pakamienny/Research_2/pmlb/datasets/feynman_II_6_11/feynman_II_6_11.tsv.gz'),\n",
       " PosixPath('/private/home/pakamienny/Research_2/pmlb/datasets/feynman_II_6_15a/feynman_II_6_15a.tsv.gz'),\n",
       " PosixPath('/private/home/pakamienny/Research_2/pmlb/datasets/feynman_II_6_15b/feynman_II_6_15b.tsv.gz'),\n",
       " PosixPath('/private/home/pakamienny/Research_2/pmlb/datasets/feynman_II_8_31/feynman_II_8_31.tsv.gz'),\n",
       " PosixPath('/private/home/pakamienny/Research_2/pmlb/datasets/feynman_II_8_7/feynman_II_8_7.tsv.gz'),\n",
       " PosixPath('/private/home/pakamienny/Research_2/pmlb/datasets/feynman_I_10_7/feynman_I_10_7.tsv.gz'),\n",
       " PosixPath('/private/home/pakamienny/Research_2/pmlb/datasets/feynman_I_11_19/feynman_I_11_19.tsv.gz'),\n",
       " PosixPath('/private/home/pakamienny/Research_2/pmlb/datasets/feynman_I_12_1/feynman_I_12_1.tsv.gz'),\n",
       " PosixPath('/private/home/pakamienny/Research_2/pmlb/datasets/feynman_I_12_11/feynman_I_12_11.tsv.gz'),\n",
       " PosixPath('/private/home/pakamienny/Research_2/pmlb/datasets/feynman_I_12_2/feynman_I_12_2.tsv.gz'),\n",
       " PosixPath('/private/home/pakamienny/Research_2/pmlb/datasets/feynman_I_12_4/feynman_I_12_4.tsv.gz'),\n",
       " PosixPath('/private/home/pakamienny/Research_2/pmlb/datasets/feynman_I_12_5/feynman_I_12_5.tsv.gz'),\n",
       " PosixPath('/private/home/pakamienny/Research_2/pmlb/datasets/feynman_I_13_12/feynman_I_13_12.tsv.gz'),\n",
       " PosixPath('/private/home/pakamienny/Research_2/pmlb/datasets/feynman_I_13_4/feynman_I_13_4.tsv.gz'),\n",
       " PosixPath('/private/home/pakamienny/Research_2/pmlb/datasets/feynman_I_14_3/feynman_I_14_3.tsv.gz'),\n",
       " PosixPath('/private/home/pakamienny/Research_2/pmlb/datasets/feynman_I_14_4/feynman_I_14_4.tsv.gz'),\n",
       " PosixPath('/private/home/pakamienny/Research_2/pmlb/datasets/feynman_I_15_10/feynman_I_15_10.tsv.gz'),\n",
       " PosixPath('/private/home/pakamienny/Research_2/pmlb/datasets/feynman_I_15_3t/feynman_I_15_3t.tsv.gz'),\n",
       " PosixPath('/private/home/pakamienny/Research_2/pmlb/datasets/feynman_I_15_3x/feynman_I_15_3x.tsv.gz'),\n",
       " PosixPath('/private/home/pakamienny/Research_2/pmlb/datasets/feynman_I_16_6/feynman_I_16_6.tsv.gz'),\n",
       " PosixPath('/private/home/pakamienny/Research_2/pmlb/datasets/feynman_I_18_12/feynman_I_18_12.tsv.gz'),\n",
       " PosixPath('/private/home/pakamienny/Research_2/pmlb/datasets/feynman_I_18_14/feynman_I_18_14.tsv.gz'),\n",
       " PosixPath('/private/home/pakamienny/Research_2/pmlb/datasets/feynman_I_18_4/feynman_I_18_4.tsv.gz'),\n",
       " PosixPath('/private/home/pakamienny/Research_2/pmlb/datasets/feynman_I_24_6/feynman_I_24_6.tsv.gz'),\n",
       " PosixPath('/private/home/pakamienny/Research_2/pmlb/datasets/feynman_I_25_13/feynman_I_25_13.tsv.gz'),\n",
       " PosixPath('/private/home/pakamienny/Research_2/pmlb/datasets/feynman_I_26_2/feynman_I_26_2.tsv.gz'),\n",
       " PosixPath('/private/home/pakamienny/Research_2/pmlb/datasets/feynman_I_27_6/feynman_I_27_6.tsv.gz'),\n",
       " PosixPath('/private/home/pakamienny/Research_2/pmlb/datasets/feynman_I_29_16/feynman_I_29_16.tsv.gz'),\n",
       " PosixPath('/private/home/pakamienny/Research_2/pmlb/datasets/feynman_I_29_4/feynman_I_29_4.tsv.gz'),\n",
       " PosixPath('/private/home/pakamienny/Research_2/pmlb/datasets/feynman_I_30_3/feynman_I_30_3.tsv.gz'),\n",
       " PosixPath('/private/home/pakamienny/Research_2/pmlb/datasets/feynman_I_30_5/feynman_I_30_5.tsv.gz'),\n",
       " PosixPath('/private/home/pakamienny/Research_2/pmlb/datasets/feynman_I_32_17/feynman_I_32_17.tsv.gz'),\n",
       " PosixPath('/private/home/pakamienny/Research_2/pmlb/datasets/feynman_I_32_5/feynman_I_32_5.tsv.gz'),\n",
       " PosixPath('/private/home/pakamienny/Research_2/pmlb/datasets/feynman_I_34_1/feynman_I_34_1.tsv.gz'),\n",
       " PosixPath('/private/home/pakamienny/Research_2/pmlb/datasets/feynman_I_34_14/feynman_I_34_14.tsv.gz'),\n",
       " PosixPath('/private/home/pakamienny/Research_2/pmlb/datasets/feynman_I_34_27/feynman_I_34_27.tsv.gz'),\n",
       " PosixPath('/private/home/pakamienny/Research_2/pmlb/datasets/feynman_I_34_8/feynman_I_34_8.tsv.gz'),\n",
       " PosixPath('/private/home/pakamienny/Research_2/pmlb/datasets/feynman_I_37_4/feynman_I_37_4.tsv.gz'),\n",
       " PosixPath('/private/home/pakamienny/Research_2/pmlb/datasets/feynman_I_38_12/feynman_I_38_12.tsv.gz'),\n",
       " PosixPath('/private/home/pakamienny/Research_2/pmlb/datasets/feynman_I_39_1/feynman_I_39_1.tsv.gz'),\n",
       " PosixPath('/private/home/pakamienny/Research_2/pmlb/datasets/feynman_I_39_11/feynman_I_39_11.tsv.gz'),\n",
       " PosixPath('/private/home/pakamienny/Research_2/pmlb/datasets/feynman_I_39_22/feynman_I_39_22.tsv.gz'),\n",
       " PosixPath('/private/home/pakamienny/Research_2/pmlb/datasets/feynman_I_40_1/feynman_I_40_1.tsv.gz'),\n",
       " PosixPath('/private/home/pakamienny/Research_2/pmlb/datasets/feynman_I_41_16/feynman_I_41_16.tsv.gz'),\n",
       " PosixPath('/private/home/pakamienny/Research_2/pmlb/datasets/feynman_I_43_16/feynman_I_43_16.tsv.gz'),\n",
       " PosixPath('/private/home/pakamienny/Research_2/pmlb/datasets/feynman_I_43_31/feynman_I_43_31.tsv.gz'),\n",
       " PosixPath('/private/home/pakamienny/Research_2/pmlb/datasets/feynman_I_43_43/feynman_I_43_43.tsv.gz'),\n",
       " PosixPath('/private/home/pakamienny/Research_2/pmlb/datasets/feynman_I_44_4/feynman_I_44_4.tsv.gz'),\n",
       " PosixPath('/private/home/pakamienny/Research_2/pmlb/datasets/feynman_I_47_23/feynman_I_47_23.tsv.gz'),\n",
       " PosixPath('/private/home/pakamienny/Research_2/pmlb/datasets/feynman_I_48_2/feynman_I_48_2.tsv.gz'),\n",
       " PosixPath('/private/home/pakamienny/Research_2/pmlb/datasets/feynman_I_50_26/feynman_I_50_26.tsv.gz'),\n",
       " PosixPath('/private/home/pakamienny/Research_2/pmlb/datasets/feynman_I_6_2/feynman_I_6_2.tsv.gz'),\n",
       " PosixPath('/private/home/pakamienny/Research_2/pmlb/datasets/feynman_I_6_2a/feynman_I_6_2a.tsv.gz'),\n",
       " PosixPath('/private/home/pakamienny/Research_2/pmlb/datasets/feynman_I_6_2b/feynman_I_6_2b.tsv.gz'),\n",
       " PosixPath('/private/home/pakamienny/Research_2/pmlb/datasets/feynman_I_8_14/feynman_I_8_14.tsv.gz'),\n",
       " PosixPath('/private/home/pakamienny/Research_2/pmlb/datasets/feynman_I_9_18/feynman_I_9_18.tsv.gz'),\n",
       " PosixPath('/private/home/pakamienny/Research_2/pmlb/datasets/feynman_test_1/feynman_test_1.tsv.gz'),\n",
       " PosixPath('/private/home/pakamienny/Research_2/pmlb/datasets/feynman_test_10/feynman_test_10.tsv.gz'),\n",
       " PosixPath('/private/home/pakamienny/Research_2/pmlb/datasets/feynman_test_11/feynman_test_11.tsv.gz'),\n",
       " PosixPath('/private/home/pakamienny/Research_2/pmlb/datasets/feynman_test_12/feynman_test_12.tsv.gz'),\n",
       " PosixPath('/private/home/pakamienny/Research_2/pmlb/datasets/feynman_test_13/feynman_test_13.tsv.gz'),\n",
       " PosixPath('/private/home/pakamienny/Research_2/pmlb/datasets/feynman_test_14/feynman_test_14.tsv.gz'),\n",
       " PosixPath('/private/home/pakamienny/Research_2/pmlb/datasets/feynman_test_15/feynman_test_15.tsv.gz'),\n",
       " PosixPath('/private/home/pakamienny/Research_2/pmlb/datasets/feynman_test_16/feynman_test_16.tsv.gz'),\n",
       " PosixPath('/private/home/pakamienny/Research_2/pmlb/datasets/feynman_test_17/feynman_test_17.tsv.gz'),\n",
       " PosixPath('/private/home/pakamienny/Research_2/pmlb/datasets/feynman_test_18/feynman_test_18.tsv.gz'),\n",
       " PosixPath('/private/home/pakamienny/Research_2/pmlb/datasets/feynman_test_19/feynman_test_19.tsv.gz'),\n",
       " PosixPath('/private/home/pakamienny/Research_2/pmlb/datasets/feynman_test_2/feynman_test_2.tsv.gz'),\n",
       " PosixPath('/private/home/pakamienny/Research_2/pmlb/datasets/feynman_test_20/feynman_test_20.tsv.gz'),\n",
       " PosixPath('/private/home/pakamienny/Research_2/pmlb/datasets/feynman_test_3/feynman_test_3.tsv.gz'),\n",
       " PosixPath('/private/home/pakamienny/Research_2/pmlb/datasets/feynman_test_4/feynman_test_4.tsv.gz'),\n",
       " PosixPath('/private/home/pakamienny/Research_2/pmlb/datasets/feynman_test_5/feynman_test_5.tsv.gz'),\n",
       " PosixPath('/private/home/pakamienny/Research_2/pmlb/datasets/feynman_test_6/feynman_test_6.tsv.gz'),\n",
       " PosixPath('/private/home/pakamienny/Research_2/pmlb/datasets/feynman_test_7/feynman_test_7.tsv.gz'),\n",
       " PosixPath('/private/home/pakamienny/Research_2/pmlb/datasets/feynman_test_8/feynman_test_8.tsv.gz'),\n",
       " PosixPath('/private/home/pakamienny/Research_2/pmlb/datasets/feynman_test_9/feynman_test_9.tsv.gz'),\n",
       " PosixPath('/private/home/pakamienny/Research_2/pmlb/datasets/flags/flags.tsv.gz'),\n",
       " PosixPath('/private/home/pakamienny/Research_2/pmlb/datasets/flare/flare.tsv.gz'),\n",
       " PosixPath('/private/home/pakamienny/Research_2/pmlb/datasets/german/german.tsv.gz'),\n",
       " PosixPath('/private/home/pakamienny/Research_2/pmlb/datasets/glass/glass.tsv.gz'),\n",
       " PosixPath('/private/home/pakamienny/Research_2/pmlb/datasets/glass2/glass2.tsv.gz'),\n",
       " PosixPath('/private/home/pakamienny/Research_2/pmlb/datasets/haberman/haberman.tsv.gz'),\n",
       " PosixPath('/private/home/pakamienny/Research_2/pmlb/datasets/hayes_roth/hayes_roth.tsv.gz'),\n",
       " PosixPath('/private/home/pakamienny/Research_2/pmlb/datasets/heart_c/heart_c.tsv.gz'),\n",
       " PosixPath('/private/home/pakamienny/Research_2/pmlb/datasets/heart_h/heart_h.tsv.gz'),\n",
       " PosixPath('/private/home/pakamienny/Research_2/pmlb/datasets/heart_statlog/heart_statlog.tsv.gz'),\n",
       " PosixPath('/private/home/pakamienny/Research_2/pmlb/datasets/hepatitis/hepatitis.tsv.gz'),\n",
       " PosixPath('/private/home/pakamienny/Research_2/pmlb/datasets/horse_colic/horse_colic.tsv.gz'),\n",
       " PosixPath('/private/home/pakamienny/Research_2/pmlb/datasets/house_votes_84/house_votes_84.tsv.gz'),\n",
       " PosixPath('/private/home/pakamienny/Research_2/pmlb/datasets/hungarian/hungarian.tsv.gz'),\n",
       " PosixPath('/private/home/pakamienny/Research_2/pmlb/datasets/hypothyroid/hypothyroid.tsv.gz'),\n",
       " PosixPath('/private/home/pakamienny/Research_2/pmlb/datasets/ionosphere/ionosphere.tsv.gz'),\n",
       " PosixPath('/private/home/pakamienny/Research_2/pmlb/datasets/iris/iris.tsv.gz'),\n",
       " PosixPath('/private/home/pakamienny/Research_2/pmlb/datasets/irish/irish.tsv.gz'),\n",
       " PosixPath('/private/home/pakamienny/Research_2/pmlb/datasets/kddcup/kddcup.tsv.gz'),\n",
       " PosixPath('/private/home/pakamienny/Research_2/pmlb/datasets/kr_vs_kp/kr_vs_kp.tsv.gz'),\n",
       " PosixPath('/private/home/pakamienny/Research_2/pmlb/datasets/krkopt/krkopt.tsv.gz'),\n",
       " PosixPath('/private/home/pakamienny/Research_2/pmlb/datasets/labor/labor.tsv.gz'),\n",
       " PosixPath('/private/home/pakamienny/Research_2/pmlb/datasets/led24/led24.tsv.gz'),\n",
       " PosixPath('/private/home/pakamienny/Research_2/pmlb/datasets/led7/led7.tsv.gz'),\n",
       " PosixPath('/private/home/pakamienny/Research_2/pmlb/datasets/letter/letter.tsv.gz'),\n",
       " PosixPath('/private/home/pakamienny/Research_2/pmlb/datasets/lupus/lupus.tsv.gz'),\n",
       " PosixPath('/private/home/pakamienny/Research_2/pmlb/datasets/lymphography/lymphography.tsv.gz'),\n",
       " PosixPath('/private/home/pakamienny/Research_2/pmlb/datasets/magic/magic.tsv.gz'),\n",
       " PosixPath('/private/home/pakamienny/Research_2/pmlb/datasets/mfeat_factors/mfeat_factors.tsv.gz'),\n",
       " PosixPath('/private/home/pakamienny/Research_2/pmlb/datasets/mfeat_fourier/mfeat_fourier.tsv.gz'),\n",
       " PosixPath('/private/home/pakamienny/Research_2/pmlb/datasets/mfeat_karhunen/mfeat_karhunen.tsv.gz'),\n",
       " PosixPath('/private/home/pakamienny/Research_2/pmlb/datasets/mfeat_morphological/mfeat_morphological.tsv.gz'),\n",
       " PosixPath('/private/home/pakamienny/Research_2/pmlb/datasets/mfeat_pixel/mfeat_pixel.tsv.gz'),\n",
       " PosixPath('/private/home/pakamienny/Research_2/pmlb/datasets/mfeat_zernike/mfeat_zernike.tsv.gz'),\n",
       " PosixPath('/private/home/pakamienny/Research_2/pmlb/datasets/mnist/mnist.tsv.gz'),\n",
       " PosixPath('/private/home/pakamienny/Research_2/pmlb/datasets/mofn_3_7_10/mofn_3_7_10.tsv.gz'),\n",
       " PosixPath('/private/home/pakamienny/Research_2/pmlb/datasets/molecular_biology_promoters/molecular_biology_promoters.tsv.gz'),\n",
       " PosixPath('/private/home/pakamienny/Research_2/pmlb/datasets/monk1/monk1.tsv.gz'),\n",
       " PosixPath('/private/home/pakamienny/Research_2/pmlb/datasets/monk2/monk2.tsv.gz'),\n",
       " PosixPath('/private/home/pakamienny/Research_2/pmlb/datasets/monk3/monk3.tsv.gz'),\n",
       " PosixPath('/private/home/pakamienny/Research_2/pmlb/datasets/movement_libras/movement_libras.tsv.gz'),\n",
       " PosixPath('/private/home/pakamienny/Research_2/pmlb/datasets/mushroom/mushroom.tsv.gz'),\n",
       " PosixPath('/private/home/pakamienny/Research_2/pmlb/datasets/mux6/mux6.tsv.gz'),\n",
       " PosixPath('/private/home/pakamienny/Research_2/pmlb/datasets/new_thyroid/new_thyroid.tsv.gz'),\n",
       " PosixPath('/private/home/pakamienny/Research_2/pmlb/datasets/nursery/nursery.tsv.gz'),\n",
       " PosixPath('/private/home/pakamienny/Research_2/pmlb/datasets/optdigits/optdigits.tsv.gz'),\n",
       " PosixPath('/private/home/pakamienny/Research_2/pmlb/datasets/page_blocks/page_blocks.tsv.gz'),\n",
       " PosixPath('/private/home/pakamienny/Research_2/pmlb/datasets/parity5+5/parity5+5.tsv.gz'),\n",
       " PosixPath('/private/home/pakamienny/Research_2/pmlb/datasets/parity5/parity5.tsv.gz'),\n",
       " PosixPath('/private/home/pakamienny/Research_2/pmlb/datasets/pendigits/pendigits.tsv.gz'),\n",
       " PosixPath('/private/home/pakamienny/Research_2/pmlb/datasets/penguins/penguins.tsv.gz'),\n",
       " PosixPath('/private/home/pakamienny/Research_2/pmlb/datasets/phoneme/phoneme.tsv.gz'),\n",
       " PosixPath('/private/home/pakamienny/Research_2/pmlb/datasets/pima/pima.tsv.gz'),\n",
       " PosixPath('/private/home/pakamienny/Research_2/pmlb/datasets/poker/poker.tsv.gz'),\n",
       " PosixPath('/private/home/pakamienny/Research_2/pmlb/datasets/postoperative_patient_data/postoperative_patient_data.tsv.gz'),\n",
       " PosixPath('/private/home/pakamienny/Research_2/pmlb/datasets/prnn_crabs/prnn_crabs.tsv.gz'),\n",
       " PosixPath('/private/home/pakamienny/Research_2/pmlb/datasets/prnn_fglass/prnn_fglass.tsv.gz'),\n",
       " PosixPath('/private/home/pakamienny/Research_2/pmlb/datasets/prnn_synth/prnn_synth.tsv.gz'),\n",
       " PosixPath('/private/home/pakamienny/Research_2/pmlb/datasets/profb/profb.tsv.gz'),\n",
       " PosixPath('/private/home/pakamienny/Research_2/pmlb/datasets/ring/ring.tsv.gz'),\n",
       " PosixPath('/private/home/pakamienny/Research_2/pmlb/datasets/saheart/saheart.tsv.gz'),\n",
       " PosixPath('/private/home/pakamienny/Research_2/pmlb/datasets/satimage/satimage.tsv.gz'),\n",
       " PosixPath('/private/home/pakamienny/Research_2/pmlb/datasets/schizo/schizo.tsv.gz'),\n",
       " PosixPath('/private/home/pakamienny/Research_2/pmlb/datasets/segmentation/segmentation.tsv.gz'),\n",
       " PosixPath('/private/home/pakamienny/Research_2/pmlb/datasets/shuttle/shuttle.tsv.gz'),\n",
       " PosixPath('/private/home/pakamienny/Research_2/pmlb/datasets/sleep/sleep.tsv.gz'),\n",
       " PosixPath('/private/home/pakamienny/Research_2/pmlb/datasets/solar_flare_1/solar_flare_1.tsv.gz'),\n",
       " PosixPath('/private/home/pakamienny/Research_2/pmlb/datasets/solar_flare_2/solar_flare_2.tsv.gz'),\n",
       " PosixPath('/private/home/pakamienny/Research_2/pmlb/datasets/sonar/sonar.tsv.gz'),\n",
       " PosixPath('/private/home/pakamienny/Research_2/pmlb/datasets/soybean/soybean.tsv.gz'),\n",
       " PosixPath('/private/home/pakamienny/Research_2/pmlb/datasets/spambase/spambase.tsv.gz'),\n",
       " PosixPath('/private/home/pakamienny/Research_2/pmlb/datasets/spect/spect.tsv.gz'),\n",
       " PosixPath('/private/home/pakamienny/Research_2/pmlb/datasets/spectf/spectf.tsv.gz'),\n",
       " PosixPath('/private/home/pakamienny/Research_2/pmlb/datasets/splice/splice.tsv.gz'),\n",
       " PosixPath('/private/home/pakamienny/Research_2/pmlb/datasets/strogatz_bacres1/strogatz_bacres1.tsv.gz'),\n",
       " PosixPath('/private/home/pakamienny/Research_2/pmlb/datasets/strogatz_bacres2/strogatz_bacres2.tsv.gz'),\n",
       " PosixPath('/private/home/pakamienny/Research_2/pmlb/datasets/strogatz_barmag1/strogatz_barmag1.tsv.gz'),\n",
       " PosixPath('/private/home/pakamienny/Research_2/pmlb/datasets/strogatz_barmag2/strogatz_barmag2.tsv.gz'),\n",
       " PosixPath('/private/home/pakamienny/Research_2/pmlb/datasets/strogatz_glider1/strogatz_glider1.tsv.gz'),\n",
       " PosixPath('/private/home/pakamienny/Research_2/pmlb/datasets/strogatz_glider2/strogatz_glider2.tsv.gz'),\n",
       " PosixPath('/private/home/pakamienny/Research_2/pmlb/datasets/strogatz_lv1/strogatz_lv1.tsv.gz'),\n",
       " PosixPath('/private/home/pakamienny/Research_2/pmlb/datasets/strogatz_lv2/strogatz_lv2.tsv.gz'),\n",
       " PosixPath('/private/home/pakamienny/Research_2/pmlb/datasets/strogatz_predprey1/strogatz_predprey1.tsv.gz'),\n",
       " PosixPath('/private/home/pakamienny/Research_2/pmlb/datasets/strogatz_predprey2/strogatz_predprey2.tsv.gz'),\n",
       " PosixPath('/private/home/pakamienny/Research_2/pmlb/datasets/strogatz_shearflow1/strogatz_shearflow1.tsv.gz'),\n",
       " PosixPath('/private/home/pakamienny/Research_2/pmlb/datasets/strogatz_shearflow2/strogatz_shearflow2.tsv.gz'),\n",
       " PosixPath('/private/home/pakamienny/Research_2/pmlb/datasets/strogatz_vdp1/strogatz_vdp1.tsv.gz'),\n",
       " PosixPath('/private/home/pakamienny/Research_2/pmlb/datasets/strogatz_vdp2/strogatz_vdp2.tsv.gz'),\n",
       " PosixPath('/private/home/pakamienny/Research_2/pmlb/datasets/tae/tae.tsv.gz'),\n",
       " PosixPath('/private/home/pakamienny/Research_2/pmlb/datasets/texture/texture.tsv.gz'),\n",
       " PosixPath('/private/home/pakamienny/Research_2/pmlb/datasets/threeOf9/threeOf9.tsv.gz'),\n",
       " PosixPath('/private/home/pakamienny/Research_2/pmlb/datasets/tic_tac_toe/tic_tac_toe.tsv.gz'),\n",
       " PosixPath('/private/home/pakamienny/Research_2/pmlb/datasets/titanic/titanic.tsv.gz'),\n",
       " PosixPath('/private/home/pakamienny/Research_2/pmlb/datasets/tokyo1/tokyo1.tsv.gz'),\n",
       " PosixPath('/private/home/pakamienny/Research_2/pmlb/datasets/twonorm/twonorm.tsv.gz'),\n",
       " PosixPath('/private/home/pakamienny/Research_2/pmlb/datasets/vehicle/vehicle.tsv.gz'),\n",
       " PosixPath('/private/home/pakamienny/Research_2/pmlb/datasets/vote/vote.tsv.gz'),\n",
       " PosixPath('/private/home/pakamienny/Research_2/pmlb/datasets/vowel/vowel.tsv.gz'),\n",
       " PosixPath('/private/home/pakamienny/Research_2/pmlb/datasets/waveform_21/waveform_21.tsv.gz'),\n",
       " PosixPath('/private/home/pakamienny/Research_2/pmlb/datasets/waveform_40/waveform_40.tsv.gz'),\n",
       " PosixPath('/private/home/pakamienny/Research_2/pmlb/datasets/wdbc/wdbc.tsv.gz'),\n",
       " PosixPath('/private/home/pakamienny/Research_2/pmlb/datasets/wine_quality_red/wine_quality_red.tsv.gz'),\n",
       " PosixPath('/private/home/pakamienny/Research_2/pmlb/datasets/wine_quality_white/wine_quality_white.tsv.gz'),\n",
       " PosixPath('/private/home/pakamienny/Research_2/pmlb/datasets/wine_recognition/wine_recognition.tsv.gz'),\n",
       " PosixPath('/private/home/pakamienny/Research_2/pmlb/datasets/xd6/xd6.tsv.gz'),\n",
       " PosixPath('/private/home/pakamienny/Research_2/pmlb/datasets/yeast/yeast.tsv.gz')]"
      ]
     },
     "execution_count": 20,
     "metadata": {},
     "output_type": "execute_result"
    }
   ],
   "source": [
    "list(p.glob(\"*/*.tsv.gz\"))"
   ]
  },
  {
   "cell_type": "code",
   "execution_count": null,
   "id": "67265f70-ae0f-4913-ac1f-3e476aac6e95",
   "metadata": {},
   "outputs": [],
   "source": []
  }
 ],
 "metadata": {
  "kernelspec": {
   "display_name": "Python 3",
   "language": "python",
   "name": "python3"
  },
  "language_info": {
   "codemirror_mode": {
    "name": "ipython",
    "version": 3
   },
   "file_extension": ".py",
   "mimetype": "text/x-python",
   "name": "python",
   "nbconvert_exporter": "python",
   "pygments_lexer": "ipython3",
   "version": "3.8.8"
  }
 },
 "nbformat": 4,
 "nbformat_minor": 5
}
